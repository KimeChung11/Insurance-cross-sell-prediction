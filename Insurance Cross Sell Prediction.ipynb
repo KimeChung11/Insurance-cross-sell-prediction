{
 "cells": [
  {
   "cell_type": "markdown",
   "metadata": {
    "toc": true
   },
   "source": [
    "<h1>Table of Contents<span class=\"tocSkip\"></span></h1>\n",
    "<div class=\"toc\"><ul class=\"toc-item\"><li><span><a href=\"#Task-Details\" data-toc-modified-id=\"Task-Details-1\"><span class=\"toc-item-num\">1&nbsp;&nbsp;</span>Task Details</a></span></li><li><span><a href=\"#Import-the-core-libraries\" data-toc-modified-id=\"Import-the-core-libraries-2\"><span class=\"toc-item-num\">2&nbsp;&nbsp;</span>Import the core libraries</a></span></li><li><span><a href=\"#Get-the-data,-explore-the-data-structure\" data-toc-modified-id=\"Get-the-data,-explore-the-data-structure-3\"><span class=\"toc-item-num\">3&nbsp;&nbsp;</span>Get the data, explore the data structure</a></span><ul class=\"toc-item\"><li><span><a href=\"#Import-the-dataset\" data-toc-modified-id=\"Import-the-dataset-3.1\"><span class=\"toc-item-num\">3.1&nbsp;&nbsp;</span>Import the dataset</a></span></li><li><span><a href=\"#Exploratory-Data-Analysis-(EDA)\" data-toc-modified-id=\"Exploratory-Data-Analysis-(EDA)-3.2\"><span class=\"toc-item-num\">3.2&nbsp;&nbsp;</span>Exploratory Data Analysis (EDA)</a></span><ul class=\"toc-item\"><li><span><a href=\"#Numerical-factors-and-categorical-features\" data-toc-modified-id=\"Numerical-factors-and-categorical-features-3.2.1\"><span class=\"toc-item-num\">3.2.1&nbsp;&nbsp;</span>Numerical factors and categorical features</a></span></li><li><span><a href=\"#Check-for-missing-values\" data-toc-modified-id=\"Check-for-missing-values-3.2.2\"><span class=\"toc-item-num\">3.2.2&nbsp;&nbsp;</span>Check for missing values</a></span></li><li><span><a href=\"#Histgrams\" data-toc-modified-id=\"Histgrams-3.2.3\"><span class=\"toc-item-num\">3.2.3&nbsp;&nbsp;</span>Histgrams</a></span></li><li><span><a href=\"#Gender\" data-toc-modified-id=\"Gender-3.2.4\"><span class=\"toc-item-num\">3.2.4&nbsp;&nbsp;</span>Gender</a></span></li><li><span><a href=\"#Driving_License\" data-toc-modified-id=\"Driving_License-3.2.5\"><span class=\"toc-item-num\">3.2.5&nbsp;&nbsp;</span>Driving_License</a></span></li><li><span><a href=\"#Region_Code\" data-toc-modified-id=\"Region_Code-3.2.6\"><span class=\"toc-item-num\">3.2.6&nbsp;&nbsp;</span>Region_Code</a></span></li><li><span><a href=\"#Previously_Insured\" data-toc-modified-id=\"Previously_Insured-3.2.7\"><span class=\"toc-item-num\">3.2.7&nbsp;&nbsp;</span>Previously_Insured</a></span></li><li><span><a href=\"#Vehicle_Age\" data-toc-modified-id=\"Vehicle_Age-3.2.8\"><span class=\"toc-item-num\">3.2.8&nbsp;&nbsp;</span>Vehicle_Age</a></span></li><li><span><a href=\"#Vehicle_Damage\" data-toc-modified-id=\"Vehicle_Damage-3.2.9\"><span class=\"toc-item-num\">3.2.9&nbsp;&nbsp;</span>Vehicle_Damage</a></span></li><li><span><a href=\"#Policy_Sales_Channel\" data-toc-modified-id=\"Policy_Sales_Channel-3.2.10\"><span class=\"toc-item-num\">3.2.10&nbsp;&nbsp;</span>Policy_Sales_Channel</a></span></li><li><span><a href=\"#Correlation-analysis\" data-toc-modified-id=\"Correlation-analysis-3.2.11\"><span class=\"toc-item-num\">3.2.11&nbsp;&nbsp;</span>Correlation analysis</a></span></li></ul></li></ul></li><li><span><a href=\"#Sampling-and-transformation\" data-toc-modified-id=\"Sampling-and-transformation-4\"><span class=\"toc-item-num\">4&nbsp;&nbsp;</span>Sampling and transformation</a></span><ul class=\"toc-item\"><li><span><a href=\"#Pure-random-sampling\" data-toc-modified-id=\"Pure-random-sampling-4.1\"><span class=\"toc-item-num\">4.1&nbsp;&nbsp;</span>Pure random sampling</a></span><ul class=\"toc-item\"><li><span><a href=\"#Random-sampling\" data-toc-modified-id=\"Random-sampling-4.1.1\"><span class=\"toc-item-num\">4.1.1&nbsp;&nbsp;</span>Random sampling</a></span></li></ul></li><li><span><a href=\"#Deal-with-imbalanced-sample\" data-toc-modified-id=\"Deal-with-imbalanced-sample-4.2\"><span class=\"toc-item-num\">4.2&nbsp;&nbsp;</span>Deal with imbalanced sample</a></span><ul class=\"toc-item\"><li><span><a href=\"#Over-sampling\" data-toc-modified-id=\"Over-sampling-4.2.1\"><span class=\"toc-item-num\">4.2.1&nbsp;&nbsp;</span>Over-sampling</a></span></li><li><span><a href=\"#Under-sampling\" data-toc-modified-id=\"Under-sampling-4.2.2\"><span class=\"toc-item-num\">4.2.2&nbsp;&nbsp;</span>Under-sampling</a></span></li></ul></li><li><span><a href=\"#transformation\" data-toc-modified-id=\"transformation-4.3\"><span class=\"toc-item-num\">4.3&nbsp;&nbsp;</span>transformation</a></span></li></ul></li><li><span><a href=\"#Models\" data-toc-modified-id=\"Models-5\"><span class=\"toc-item-num\">5&nbsp;&nbsp;</span>Models</a></span><ul class=\"toc-item\"><li><span><a href=\"#Logistic-Regression\" data-toc-modified-id=\"Logistic-Regression-5.1\"><span class=\"toc-item-num\">5.1&nbsp;&nbsp;</span>Logistic Regression</a></span><ul class=\"toc-item\"><li><span><a href=\"#Original-data-set\" data-toc-modified-id=\"Original-data-set-5.1.1\"><span class=\"toc-item-num\">5.1.1&nbsp;&nbsp;</span>Original data set</a></span></li><li><span><a href=\"#Oversampling-data\" data-toc-modified-id=\"Oversampling-data-5.1.2\"><span class=\"toc-item-num\">5.1.2&nbsp;&nbsp;</span>Oversampling data</a></span></li><li><span><a href=\"#Undersampling-data\" data-toc-modified-id=\"Undersampling-data-5.1.3\"><span class=\"toc-item-num\">5.1.3&nbsp;&nbsp;</span>Undersampling data</a></span></li><li><span><a href=\"#Weighted-Logistic-Regression\" data-toc-modified-id=\"Weighted-Logistic-Regression-5.1.4\"><span class=\"toc-item-num\">5.1.4&nbsp;&nbsp;</span>Weighted Logistic Regression</a></span><ul class=\"toc-item\"><li><span><a href=\"#Original-data\" data-toc-modified-id=\"Original-data-5.1.4.1\"><span class=\"toc-item-num\">5.1.4.1&nbsp;&nbsp;</span>Original data</a></span></li><li><span><a href=\"#Oversampling-data\" data-toc-modified-id=\"Oversampling-data-5.1.4.2\"><span class=\"toc-item-num\">5.1.4.2&nbsp;&nbsp;</span>Oversampling data</a></span></li><li><span><a href=\"#Undersampling-data\" data-toc-modified-id=\"Undersampling-data-5.1.4.3\"><span class=\"toc-item-num\">5.1.4.3&nbsp;&nbsp;</span>Undersampling data</a></span></li></ul></li></ul></li><li><span><a href=\"#Decision-Tree\" data-toc-modified-id=\"Decision-Tree-5.2\"><span class=\"toc-item-num\">5.2&nbsp;&nbsp;</span>Decision Tree</a></span><ul class=\"toc-item\"><li><span><a href=\"#Original-data\" data-toc-modified-id=\"Original-data-5.2.1\"><span class=\"toc-item-num\">5.2.1&nbsp;&nbsp;</span>Original data</a></span></li><li><span><a href=\"#Oversampling-data\" data-toc-modified-id=\"Oversampling-data-5.2.2\"><span class=\"toc-item-num\">5.2.2&nbsp;&nbsp;</span>Oversampling data</a></span></li><li><span><a href=\"#Undersampling-data\" data-toc-modified-id=\"Undersampling-data-5.2.3\"><span class=\"toc-item-num\">5.2.3&nbsp;&nbsp;</span>Undersampling data</a></span></li></ul></li><li><span><a href=\"#Random-Forest\" data-toc-modified-id=\"Random-Forest-5.3\"><span class=\"toc-item-num\">5.3&nbsp;&nbsp;</span>Random Forest</a></span><ul class=\"toc-item\"><li><span><a href=\"#Original-data\" data-toc-modified-id=\"Original-data-5.3.1\"><span class=\"toc-item-num\">5.3.1&nbsp;&nbsp;</span>Original data</a></span></li><li><span><a href=\"#Oversampling-data\" data-toc-modified-id=\"Oversampling-data-5.3.2\"><span class=\"toc-item-num\">5.3.2&nbsp;&nbsp;</span>Oversampling data</a></span></li><li><span><a href=\"#Undersampling-data\" data-toc-modified-id=\"Undersampling-data-5.3.3\"><span class=\"toc-item-num\">5.3.3&nbsp;&nbsp;</span>Undersampling data</a></span></li></ul></li></ul></li><li><span><a href=\"#Models-after-tuning-parameters\" data-toc-modified-id=\"Models-after-tuning-parameters-6\"><span class=\"toc-item-num\">6&nbsp;&nbsp;</span>Models after tuning parameters</a></span><ul class=\"toc-item\"><li><span><a href=\"#Logistic-Regression-with-different-regularization-method-and-parameter.\" data-toc-modified-id=\"Logistic-Regression-with-different-regularization-method-and-parameter.-6.1\"><span class=\"toc-item-num\">6.1&nbsp;&nbsp;</span>Logistic Regression with different regularization method and parameter.</a></span></li><li><span><a href=\"#Decision-tree-with-adjusted-parameter\" data-toc-modified-id=\"Decision-tree-with-adjusted-parameter-6.2\"><span class=\"toc-item-num\">6.2&nbsp;&nbsp;</span>Decision tree with adjusted parameter</a></span></li><li><span><a href=\"#Random-Forest-with-adjusted-parameter\" data-toc-modified-id=\"Random-Forest-with-adjusted-parameter-6.3\"><span class=\"toc-item-num\">6.3&nbsp;&nbsp;</span>Random Forest with adjusted parameter</a></span></li></ul></li><li><span><a href=\"#Summary-and-conclusion\" data-toc-modified-id=\"Summary-and-conclusion-7\"><span class=\"toc-item-num\">7&nbsp;&nbsp;</span>Summary and conclusion</a></span><ul class=\"toc-item\"><li><span><a href=\"#summary-of-models-with-default-parameters\" data-toc-modified-id=\"summary-of-models-with-default-parameters-7.1\"><span class=\"toc-item-num\">7.1&nbsp;&nbsp;</span>summary of models with default parameters</a></span></li></ul></li></ul></div>"
   ]
  },
  {
   "cell_type": "markdown",
   "metadata": {},
   "source": [
    " <h1>Health Insurance Cross Sell Prediction -- Group_1<span class=\"tocSkip\"></span></h1>\n",
    "The Health Insurance Cross-sell Prediction Predicts Health Insurance policyholders' Interests in Auto Insurance.\n",
    "\n",
    "The project is captured from Kaggle:\n",
    "https://www.kaggle.com/anmolkumar/health-insurance-cross-sell-prediction/tasks?taskId=2055"
   ]
  },
  {
   "cell_type": "markdown",
   "metadata": {},
   "source": [
    "# Import the core libraries"
   ]
  },
  {
   "cell_type": "code",
   "execution_count": 1,
   "metadata": {
    "ExecuteTime": {
     "end_time": "2020-12-04T13:13:49.300161Z",
     "start_time": "2020-12-04T13:13:49.098824Z"
    }
   },
   "outputs": [],
   "source": [
    "import numpy as np\n",
    "import pandas as pd\n",
    "import seaborn as sns\n",
    "import matplotlib.pyplot as plt\n",
    "\n",
    "# transform\n",
    "from sklearn.pipeline import Pipeline\n",
    "from sklearn.preprocessing import StandardScaler\n",
    "from sklearn.preprocessing import OneHotEncoder\n",
    "from sklearn.compose import ColumnTransformer\n",
    "\n",
    "# models\n",
    "from sklearn.linear_model import LogisticRegression\n",
    "from sklearn.ensemble import RandomForestClassifier\n",
    "from sklearn.tree import DecisionTreeClassifier\n",
    "from sklearn.model_selection import RepeatedStratifiedKFold\n",
    "from xgboost import XGBClassifier \n",
    "from sklearn.datasets import make_classification\n",
    "from sklearn.model_selection import GridSearchCV\n",
    "\n",
    "pd.options.display.max_rows=None\n",
    "pd.options.display.max_columns=None"
   ]
  },
  {
   "cell_type": "markdown",
   "metadata": {},
   "source": [
    "# Get the data, explore the data structure"
   ]
  },
  {
   "cell_type": "markdown",
   "metadata": {},
   "source": [
    "## Import the dataset"
   ]
  },
  {
   "cell_type": "code",
   "execution_count": 2,
   "metadata": {
    "ExecuteTime": {
     "end_time": "2020-12-03T15:58:45.045368Z",
     "start_time": "2020-12-03T15:58:44.409365Z"
    }
   },
   "outputs": [],
   "source": [
    "data = pd.read_csv('train.csv', sep=',', header=0) \n",
    "# test = pd.read_csv('test.csv', sep=',', header=0) # test data: data set without label"
   ]
  },
  {
   "cell_type": "markdown",
   "metadata": {},
   "source": [
    "**Target (Response)**"
   ]
  },
  {
   "cell_type": "code",
   "execution_count": 3,
   "metadata": {
    "ExecuteTime": {
     "end_time": "2020-11-29T10:19:12.151463Z",
     "start_time": "2020-11-29T10:19:05.353809Z"
    }
   },
   "outputs": [
    {
     "data": {
      "text/plain": [
       "Counter({1: 46710, 0: 334399})"
      ]
     },
     "execution_count": 3,
     "metadata": {},
     "output_type": "execute_result"
    },
    {
     "data": {
      "image/png": "[encoded data removed]",
      "text/plain": [
       "<Figure size 432x288 with 1 Axes>"
      ]
     },
     "metadata": {
      "needs_background": "light"
     },
     "output_type": "display_data"
    }
   ],
   "source": [
    "# label in the train data: Response\n",
    "sns.countplot(x = data.Response) \n",
    "\n",
    "from collections import Counter\n",
    "counts_y_data = Counter(data.Response)\n",
    "counts_y_data"
   ]
  },
  {
   "cell_type": "code",
   "execution_count": 4,
   "metadata": {
    "ExecuteTime": {
     "end_time": "2020-11-28T04:26:06.021025Z",
     "start_time": "2020-11-28T04:26:06.002067Z"
    }
   },
   "outputs": [
    {
     "name": "stdout",
     "output_type": "stream",
     "text": [
      "The imbalance ratio is 7.159045\n"
     ]
    }
   ],
   "source": [
    "imbalance_ratio = counts_y_data[0]/counts_y_data[1]\n",
    "\n",
    "str1 = \"The imbalance ratio is %f\" %(imbalance_ratio)\n",
    "print(str1)"
   ]
  },
  {
   "cell_type": "markdown",
   "metadata": {},
   "source": [
    "**We notice that the dataset is highly imbalanced**"
   ]
  },
  {
   "cell_type": "markdown",
   "metadata": {},
   "source": [
    "## Exploratory Data Analysis (EDA)"
   ]
  },
  {
   "cell_type": "code",
   "execution_count": 5,
   "metadata": {
    "scrolled": true
   },
   "outputs": [
    {
     "data": {
      "text/html": [
       "<div>\n",
       "<style scoped>\n",
       "    .dataframe tbody tr th:only-of-type {\n",
       "        vertical-align: middle;\n",
       "    }\n",
       "\n",
       "    .dataframe tbody tr th {\n",
       "        vertical-align: top;\n",
       "    }\n",
       "\n",
       "    .dataframe thead th {\n",
       "        text-align: right;\n",
       "    }\n",
       "</style>\n",
       "<table border=\"1\" class=\"dataframe\">\n",
       "  <thead>\n",
       "    <tr style=\"text-align: right;\">\n",
       "      <th></th>\n",
       "      <th>id</th>\n",
       "      <th>Gender</th>\n",
       "      <th>Age</th>\n",
       "      <th>Driving_License</th>\n",
       "      <th>Region_Code</th>\n",
       "      <th>Previously_Insured</th>\n",
       "      <th>Vehicle_Age</th>\n",
       "      <th>Vehicle_Damage</th>\n",
       "      <th>Annual_Premium</th>\n",
       "      <th>Policy_Sales_Channel</th>\n",
       "      <th>Vintage</th>\n",
       "      <th>Response</th>\n",
       "    </tr>\n",
       "  </thead>\n",
       "  <tbody>\n",
       "    <tr>\n",
       "      <th>0</th>\n",
       "      <td>1</td>\n",
       "      <td>Male</td>\n",
       "      <td>44</td>\n",
       "      <td>1</td>\n",
       "      <td>28.0</td>\n",
       "      <td>0</td>\n",
       "      <td>&gt; 2 Years</td>\n",
       "      <td>Yes</td>\n",
       "      <td>40454.0</td>\n",
       "      <td>26.0</td>\n",
       "      <td>217</td>\n",
       "      <td>1</td>\n",
       "    </tr>\n",
       "    <tr>\n",
       "      <th>1</th>\n",
       "      <td>2</td>\n",
       "      <td>Male</td>\n",
       "      <td>76</td>\n",
       "      <td>1</td>\n",
       "      <td>3.0</td>\n",
       "      <td>0</td>\n",
       "      <td>1-2 Year</td>\n",
       "      <td>No</td>\n",
       "      <td>33536.0</td>\n",
       "      <td>26.0</td>\n",
       "      <td>183</td>\n",
       "      <td>0</td>\n",
       "    </tr>\n",
       "    <tr>\n",
       "      <th>2</th>\n",
       "      <td>3</td>\n",
       "      <td>Male</td>\n",
       "      <td>47</td>\n",
       "      <td>1</td>\n",
       "      <td>28.0</td>\n",
       "      <td>0</td>\n",
       "      <td>&gt; 2 Years</td>\n",
       "      <td>Yes</td>\n",
       "      <td>38294.0</td>\n",
       "      <td>26.0</td>\n",
       "      <td>27</td>\n",
       "      <td>1</td>\n",
       "    </tr>\n",
       "    <tr>\n",
       "      <th>3</th>\n",
       "      <td>4</td>\n",
       "      <td>Male</td>\n",
       "      <td>21</td>\n",
       "      <td>1</td>\n",
       "      <td>11.0</td>\n",
       "      <td>1</td>\n",
       "      <td>&lt; 1 Year</td>\n",
       "      <td>No</td>\n",
       "      <td>28619.0</td>\n",
       "      <td>152.0</td>\n",
       "      <td>203</td>\n",
       "      <td>0</td>\n",
       "    </tr>\n",
       "    <tr>\n",
       "      <th>4</th>\n",
       "      <td>5</td>\n",
       "      <td>Female</td>\n",
       "      <td>29</td>\n",
       "      <td>1</td>\n",
       "      <td>41.0</td>\n",
       "      <td>1</td>\n",
       "      <td>&lt; 1 Year</td>\n",
       "      <td>No</td>\n",
       "      <td>27496.0</td>\n",
       "      <td>152.0</td>\n",
       "      <td>39</td>\n",
       "      <td>0</td>\n",
       "    </tr>\n",
       "  </tbody>\n",
       "</table>\n",
       "</div>"
      ],
      "text/plain": [
       "   id  Gender  Age  Driving_License  Region_Code  Previously_Insured  \\\n",
       "0   1    Male   44                1         28.0                   0   \n",
       "1   2    Male   76                1          3.0                   0   \n",
       "2   3    Male   47                1         28.0                   0   \n",
       "3   4    Male   21                1         11.0                   1   \n",
       "4   5  Female   29                1         41.0                   1   \n",
       "\n",
       "  Vehicle_Age Vehicle_Damage  Annual_Premium  Policy_Sales_Channel  Vintage  \\\n",
       "0   > 2 Years            Yes         40454.0                  26.0      217   \n",
       "1    1-2 Year             No         33536.0                  26.0      183   \n",
       "2   > 2 Years            Yes         38294.0                  26.0       27   \n",
       "3    < 1 Year             No         28619.0                 152.0      203   \n",
       "4    < 1 Year             No         27496.0                 152.0       39   \n",
       "\n",
       "   Response  \n",
       "0         1  \n",
       "1         0  \n",
       "2         1  \n",
       "3         0  \n",
       "4         0  "
      ]
     },
     "execution_count": 5,
     "metadata": {},
     "output_type": "execute_result"
    }
   ],
   "source": [
    "data.head() "
   ]
  },
  {
   "cell_type": "code",
   "execution_count": 6,
   "metadata": {},
   "outputs": [
    {
     "name": "stdout",
     "output_type": "stream",
     "text": [
      "<class 'pandas.core.frame.DataFrame'>\n",
      "RangeIndex: 381109 entries, 0 to 381108\n",
      "Data columns (total 12 columns):\n",
      " #   Column                Non-Null Count   Dtype  \n",
      "---  ------                --------------   -----  \n",
      " 0   id                    381109 non-null  int64  \n",
      " 1   Gender                381109 non-null  object \n",
      " 2   Age                   381109 non-null  int64  \n",
      " 3   Driving_License       381109 non-null  int64  \n",
      " 4   Region_Code           381109 non-null  float64\n",
      " 5   Previously_Insured    381109 non-null  int64  \n",
      " 6   Vehicle_Age           381109 non-null  object \n",
      " 7   Vehicle_Damage        381109 non-null  object \n",
      " 8   Annual_Premium        381109 non-null  float64\n",
      " 9   Policy_Sales_Channel  381109 non-null  float64\n",
      " 10  Vintage               381109 non-null  int64  \n",
      " 11  Response              381109 non-null  int64  \n",
      "dtypes: float64(3), int64(6), object(3)\n",
      "memory usage: 34.9+ MB\n"
     ]
    }
   ],
   "source": [
    "data.info()"
   ]
  },
  {
   "cell_type": "code",
   "execution_count": 7,
   "metadata": {
    "scrolled": true
   },
   "outputs": [
    {
     "data": {
      "text/html": [
       "<div>\n",
       "<style scoped>\n",
       "    .dataframe tbody tr th:only-of-type {\n",
       "        vertical-align: middle;\n",
       "    }\n",
       "\n",
       "    .dataframe tbody tr th {\n",
       "        vertical-align: top;\n",
       "    }\n",
       "\n",
       "    .dataframe thead th {\n",
       "        text-align: right;\n",
       "    }\n",
       "</style>\n",
       "<table border=\"1\" class=\"dataframe\">\n",
       "  <thead>\n",
       "    <tr style=\"text-align: right;\">\n",
       "      <th></th>\n",
       "      <th>id</th>\n",
       "      <th>Age</th>\n",
       "      <th>Driving_License</th>\n",
       "      <th>Region_Code</th>\n",
       "      <th>Previously_Insured</th>\n",
       "      <th>Annual_Premium</th>\n",
       "      <th>Policy_Sales_Channel</th>\n",
       "      <th>Vintage</th>\n",
       "      <th>Response</th>\n",
       "    </tr>\n",
       "  </thead>\n",
       "  <tbody>\n",
       "    <tr>\n",
       "      <th>count</th>\n",
       "      <td>381109.000000</td>\n",
       "      <td>381109.000000</td>\n",
       "      <td>381109.000000</td>\n",
       "      <td>381109.000000</td>\n",
       "      <td>381109.000000</td>\n",
       "      <td>381109.000000</td>\n",
       "      <td>381109.000000</td>\n",
       "      <td>381109.000000</td>\n",
       "      <td>381109.000000</td>\n",
       "    </tr>\n",
       "    <tr>\n",
       "      <th>mean</th>\n",
       "      <td>190555.000000</td>\n",
       "      <td>38.822584</td>\n",
       "      <td>0.997869</td>\n",
       "      <td>26.388807</td>\n",
       "      <td>0.458210</td>\n",
       "      <td>30564.389581</td>\n",
       "      <td>112.034295</td>\n",
       "      <td>154.347397</td>\n",
       "      <td>0.122563</td>\n",
       "    </tr>\n",
       "    <tr>\n",
       "      <th>std</th>\n",
       "      <td>110016.836208</td>\n",
       "      <td>15.511611</td>\n",
       "      <td>0.046110</td>\n",
       "      <td>13.229888</td>\n",
       "      <td>0.498251</td>\n",
       "      <td>17213.155057</td>\n",
       "      <td>54.203995</td>\n",
       "      <td>83.671304</td>\n",
       "      <td>0.327936</td>\n",
       "    </tr>\n",
       "    <tr>\n",
       "      <th>min</th>\n",
       "      <td>1.000000</td>\n",
       "      <td>20.000000</td>\n",
       "      <td>0.000000</td>\n",
       "      <td>0.000000</td>\n",
       "      <td>0.000000</td>\n",
       "      <td>2630.000000</td>\n",
       "      <td>1.000000</td>\n",
       "      <td>10.000000</td>\n",
       "      <td>0.000000</td>\n",
       "    </tr>\n",
       "    <tr>\n",
       "      <th>25%</th>\n",
       "      <td>95278.000000</td>\n",
       "      <td>25.000000</td>\n",
       "      <td>1.000000</td>\n",
       "      <td>15.000000</td>\n",
       "      <td>0.000000</td>\n",
       "      <td>24405.000000</td>\n",
       "      <td>29.000000</td>\n",
       "      <td>82.000000</td>\n",
       "      <td>0.000000</td>\n",
       "    </tr>\n",
       "    <tr>\n",
       "      <th>50%</th>\n",
       "      <td>190555.000000</td>\n",
       "      <td>36.000000</td>\n",
       "      <td>1.000000</td>\n",
       "      <td>28.000000</td>\n",
       "      <td>0.000000</td>\n",
       "      <td>31669.000000</td>\n",
       "      <td>133.000000</td>\n",
       "      <td>154.000000</td>\n",
       "      <td>0.000000</td>\n",
       "    </tr>\n",
       "    <tr>\n",
       "      <th>75%</th>\n",
       "      <td>285832.000000</td>\n",
       "      <td>49.000000</td>\n",
       "      <td>1.000000</td>\n",
       "      <td>35.000000</td>\n",
       "      <td>1.000000</td>\n",
       "      <td>39400.000000</td>\n",
       "      <td>152.000000</td>\n",
       "      <td>227.000000</td>\n",
       "      <td>0.000000</td>\n",
       "    </tr>\n",
       "    <tr>\n",
       "      <th>max</th>\n",
       "      <td>381109.000000</td>\n",
       "      <td>85.000000</td>\n",
       "      <td>1.000000</td>\n",
       "      <td>52.000000</td>\n",
       "      <td>1.000000</td>\n",
       "      <td>540165.000000</td>\n",
       "      <td>163.000000</td>\n",
       "      <td>299.000000</td>\n",
       "      <td>1.000000</td>\n",
       "    </tr>\n",
       "  </tbody>\n",
       "</table>\n",
       "</div>"
      ],
      "text/plain": [
       "                  id            Age  Driving_License    Region_Code  \\\n",
       "count  381109.000000  381109.000000    381109.000000  381109.000000   \n",
       "mean   190555.000000      38.822584         0.997869      26.388807   \n",
       "std    110016.836208      15.511611         0.046110      13.229888   \n",
       "min         1.000000      20.000000         0.000000       0.000000   \n",
       "25%     95278.000000      25.000000         1.000000      15.000000   \n",
       "50%    190555.000000      36.000000         1.000000      28.000000   \n",
       "75%    285832.000000      49.000000         1.000000      35.000000   \n",
       "max    381109.000000      85.000000         1.000000      52.000000   \n",
       "\n",
       "       Previously_Insured  Annual_Premium  Policy_Sales_Channel  \\\n",
       "count       381109.000000   381109.000000         381109.000000   \n",
       "mean             0.458210    30564.389581            112.034295   \n",
       "std              0.498251    17213.155057             54.203995   \n",
       "min              0.000000     2630.000000              1.000000   \n",
       "25%              0.000000    24405.000000             29.000000   \n",
       "50%              0.000000    31669.000000            133.000000   \n",
       "75%              1.000000    39400.000000            152.000000   \n",
       "max              1.000000   540165.000000            163.000000   \n",
       "\n",
       "             Vintage       Response  \n",
       "count  381109.000000  381109.000000  \n",
       "mean      154.347397       0.122563  \n",
       "std        83.671304       0.327936  \n",
       "min        10.000000       0.000000  \n",
       "25%        82.000000       0.000000  \n",
       "50%       154.000000       0.000000  \n",
       "75%       227.000000       0.000000  \n",
       "max       299.000000       1.000000  "
      ]
     },
     "execution_count": 7,
     "metadata": {},
     "output_type": "execute_result"
    }
   ],
   "source": [
    "data.describe()"
   ]
  },
  {
   "cell_type": "markdown",
   "metadata": {},
   "source": [
    "### Numerical factors and categorical features"
   ]
  },
  {
   "cell_type": "code",
   "execution_count": 8,
   "metadata": {
    "ExecuteTime": {
     "end_time": "2020-12-03T15:59:03.040550Z",
     "start_time": "2020-12-03T15:59:03.028585Z"
    }
   },
   "outputs": [],
   "source": [
    "num_features = ['Age', 'Annual_Premium', 'Vintage'] # numerical factors\n",
    "cat_features = ['Gender', 'Driving_License', 'Region_Code', 'Previously_Insured', 'Vehicle_Age', 'Vehicle_Damage'] # categorical factors\n",
    "label = ['Response']"
   ]
  },
  {
   "cell_type": "markdown",
   "metadata": {},
   "source": [
    "### Check for missing values"
   ]
  },
  {
   "cell_type": "code",
   "execution_count": 9,
   "metadata": {
    "ExecuteTime": {
     "end_time": "2020-12-03T15:59:11.355642Z",
     "start_time": "2020-12-03T15:59:11.256915Z"
    },
    "scrolled": true
   },
   "outputs": [
    {
     "data": {
      "text/plain": [
       "id                      0\n",
       "Gender                  0\n",
       "Age                     0\n",
       "Driving_License         0\n",
       "Region_Code             0\n",
       "Previously_Insured      0\n",
       "Vehicle_Age             0\n",
       "Vehicle_Damage          0\n",
       "Annual_Premium          0\n",
       "Policy_Sales_Channel    0\n",
       "Vintage                 0\n",
       "Response                0\n",
       "dtype: int64"
      ]
     },
     "execution_count": 9,
     "metadata": {},
     "output_type": "execute_result"
    }
   ],
   "source": [
    "data.isnull().sum() # check for missing values in train dataset"
   ]
  },
  {
   "cell_type": "markdown",
   "metadata": {},
   "source": [
    "**There is no missing value in this data set.**"
   ]
  },
  {
   "cell_type": "markdown",
   "metadata": {},
   "source": [
    "### Histgrams"
   ]
  },
  {
   "cell_type": "code",
   "execution_count": 10,
   "metadata": {
    "ExecuteTime": {
     "end_time": "2020-12-03T15:59:21.800917Z",
     "start_time": "2020-12-03T15:59:18.440948Z"
    }
   },
   "outputs": [
    {
     "data": {
      "image/png": "[encoded data removed]",
      "text/plain": [
       "<Figure size 1440x720 with 9 Axes>"
      ]
     },
     "metadata": {
      "needs_background": "light"
     },
     "output_type": "display_data"
    }
   ],
   "source": [
    "data.hist(bins = 50, figsize = (20, 10))\n",
    "plt.show()"
   ]
  },
  {
   "cell_type": "markdown",
   "metadata": {},
   "source": [
    "**Age**"
   ]
  },
  {
   "cell_type": "code",
   "execution_count": 13,
   "metadata": {
    "ExecuteTime": {
     "end_time": "2020-12-03T15:59:38.367131Z",
     "start_time": "2020-12-03T15:59:37.974239Z"
    }
   },
   "outputs": [
    {
     "name": "stderr",
     "output_type": "stream",
     "text": [
      "C:\\Users\\kimec\\anaconda3\\envs\\newconda\\lib\\site-packages\\seaborn\\distributions.py:2551: FutureWarning: `distplot` is a deprecated function and will be removed in a future version. Please adapt your code to use either `displot` (a figure-level function with similar flexibility) or `histplot` (an axes-level function for histograms).\n",
      "  warnings.warn(msg, FutureWarning)\n"
     ]
    },
    {
     "data": {
      "text/plain": [
       "<AxesSubplot:xlabel='Age', ylabel='Density'>"
      ]
     },
     "execution_count": 13,
     "metadata": {},
     "output_type": "execute_result"
    },
    {
     "data": {
      "image/png": "[encoded data removed]",
      "text/plain": [
       "<Figure size 432x288 with 1 Axes>"
      ]
     },
     "metadata": {
      "needs_background": "light"
     },
     "output_type": "display_data"
    }
   ],
   "source": [
    "sns.displot(data.Age)"
   ]
  },
  {
   "cell_type": "code",
   "execution_count": 14,
   "metadata": {
    "ExecuteTime": {
     "end_time": "2020-12-03T15:59:45.574305Z",
     "start_time": "2020-12-03T15:59:45.378830Z"
    }
   },
   "outputs": [
    {
     "data": {
      "text/plain": [
       "<AxesSubplot:xlabel='Age'>"
      ]
     },
     "execution_count": 14,
     "metadata": {},
     "output_type": "execute_result"
    },
    {
     "data": {
      "image/png": "[encoded data removed]",
      "text/plain": [
       "<Figure size 432x288 with 1 Axes>"
      ]
     },
     "metadata": {
      "needs_background": "light"
     },
     "output_type": "display_data"
    }
   ],
   "source": [
    "sns.boxplot(x = data.Age)"
   ]
  },
  {
   "cell_type": "markdown",
   "metadata": {},
   "source": [
    "**Annual Premium**"
   ]
  },
  {
   "cell_type": "code",
   "execution_count": 15,
   "metadata": {
    "ExecuteTime": {
     "end_time": "2020-12-03T15:59:48.713529Z",
     "start_time": "2020-12-03T15:59:48.212869Z"
    }
   },
   "outputs": [
    {
     "name": "stderr",
     "output_type": "stream",
     "text": [
      "C:\\Users\\kimec\\anaconda3\\envs\\newconda\\lib\\site-packages\\seaborn\\distributions.py:2551: FutureWarning: `distplot` is a deprecated function and will be removed in a future version. Please adapt your code to use either `displot` (a figure-level function with similar flexibility) or `histplot` (an axes-level function for histograms).\n",
      "  warnings.warn(msg, FutureWarning)\n"
     ]
    },
    {
     "data": {
      "text/plain": [
       "<AxesSubplot:xlabel='Annual_Premium', ylabel='Density'>"
      ]
     },
     "execution_count": 15,
     "metadata": {},
     "output_type": "execute_result"
    },
    {
     "data": {
      "image/png": "[encoded data removed]",
      "text/plain": [
       "<Figure size 432x288 with 1 Axes>"
      ]
     },
     "metadata": {
      "needs_background": "light"
     },
     "output_type": "display_data"
    }
   ],
   "source": [
    "sns.displot(data.Annual_Premium)"
   ]
  },
  {
   "cell_type": "markdown",
   "metadata": {},
   "source": [
    "**Vintage**"
   ]
  },
  {
   "cell_type": "code",
   "execution_count": 16,
   "metadata": {
    "ExecuteTime": {
     "end_time": "2020-12-03T15:59:51.072763Z",
     "start_time": "2020-12-03T15:59:50.596326Z"
    }
   },
   "outputs": [
    {
     "name": "stderr",
     "output_type": "stream",
     "text": [
      "C:\\Users\\kimec\\anaconda3\\envs\\newconda\\lib\\site-packages\\seaborn\\distributions.py:2551: FutureWarning: `distplot` is a deprecated function and will be removed in a future version. Please adapt your code to use either `displot` (a figure-level function with similar flexibility) or `histplot` (an axes-level function for histograms).\n",
      "  warnings.warn(msg, FutureWarning)\n"
     ]
    },
    {
     "data": {
      "text/plain": [
       "<AxesSubplot:xlabel='Vintage', ylabel='Density'>"
      ]
     },
     "execution_count": 16,
     "metadata": {},
     "output_type": "execute_result"
    },
    {
     "data": {
      "image/png": "[encoded data removed]",
      "text/plain": [
       "<Figure size 432x288 with 1 Axes>"
      ]
     },
     "metadata": {
      "needs_background": "light"
     },
     "output_type": "display_data"
    }
   ],
   "source": [
    "sns.displot(data.Vintage)"
   ]
  },
  {
   "cell_type": "code",
   "execution_count": 17,
   "metadata": {
    "ExecuteTime": {
     "end_time": "2020-12-03T15:59:55.004281Z",
     "start_time": "2020-12-03T15:59:54.808809Z"
    }
   },
   "outputs": [
    {
     "data": {
      "text/plain": [
       "<AxesSubplot:xlabel='Vintage'>"
      ]
     },
     "execution_count": 17,
     "metadata": {},
     "output_type": "execute_result"
    },
    {
     "data": {
      "image/png": "[encoded data removed]",
      "text/plain": [
       "<Figure size 432x288 with 1 Axes>"
      ]
     },
     "metadata": {
      "needs_background": "light"
     },
     "output_type": "display_data"
    }
   ],
   "source": [
    "sns.boxplot(x = data.Vintage)"
   ]
  },
  {
   "cell_type": "markdown",
   "metadata": {},
   "source": [
    "### Gender "
   ]
  },
  {
   "cell_type": "code",
   "execution_count": 18,
   "metadata": {
    "ExecuteTime": {
     "end_time": "2020-12-03T16:00:03.116909Z",
     "start_time": "2020-12-03T15:59:56.667087Z"
    }
   },
   "outputs": [
    {
     "data": {
      "text/plain": [
       "<AxesSubplot:xlabel='Gender', ylabel='count'>"
      ]
     },
     "execution_count": 18,
     "metadata": {},
     "output_type": "execute_result"
    },
    {
     "data": {
      "image/png": "[encoded data removed]",
      "text/plain": [
       "<Figure size 432x288 with 1 Axes>"
      ]
     },
     "metadata": {
      "needs_background": "light"
     },
     "output_type": "display_data"
    }
   ],
   "source": [
    "sns.countplot(x = data.Gender)"
   ]
  },
  {
   "cell_type": "markdown",
   "metadata": {},
   "source": [
    "### Driving_License"
   ]
  },
  {
   "cell_type": "code",
   "execution_count": 19,
   "metadata": {
    "ExecuteTime": {
     "end_time": "2020-12-03T16:00:06.746206Z",
     "start_time": "2020-12-03T16:00:03.119897Z"
    }
   },
   "outputs": [
    {
     "data": {
      "text/plain": [
       "<AxesSubplot:xlabel='Driving_License', ylabel='count'>"
      ]
     },
     "execution_count": 19,
     "metadata": {},
     "output_type": "execute_result"
    },
    {
     "data": {
      "image/png": "[encoded data removed]",
      "text/plain": [
       "<Figure size 432x288 with 1 Axes>"
      ]
     },
     "metadata": {
      "needs_background": "light"
     },
     "output_type": "display_data"
    }
   ],
   "source": [
    "sns.countplot(x = data.Driving_License) "
   ]
  },
  {
   "cell_type": "markdown",
   "metadata": {},
   "source": [
    "### Region_Code"
   ]
  },
  {
   "cell_type": "code",
   "execution_count": 20,
   "metadata": {
    "ExecuteTime": {
     "end_time": "2020-12-03T16:00:06.778117Z",
     "start_time": "2020-12-03T16:00:06.749193Z"
    }
   },
   "outputs": [
    {
     "data": {
      "text/plain": [
       "array([28.,  3., 11., 41., 33.,  6., 35., 50., 15., 45.,  8., 36., 30.,\n",
       "       26., 16., 47., 48., 19., 39., 23., 37.,  5., 17.,  2.,  7., 29.,\n",
       "       46., 27., 25., 13., 18., 20., 49., 22., 44.,  0.,  9., 31., 12.,\n",
       "       34., 21., 10., 14., 38., 24., 40., 43., 32.,  4., 51., 42.,  1.,\n",
       "       52.])"
      ]
     },
     "execution_count": 20,
     "metadata": {},
     "output_type": "execute_result"
    }
   ],
   "source": [
    "data.Region_Code.unique()"
   ]
  },
  {
   "cell_type": "code",
   "execution_count": 21,
   "metadata": {
    "ExecuteTime": {
     "end_time": "2020-12-03T16:00:20.853524Z",
     "start_time": "2020-12-03T16:00:12.094898Z"
    }
   },
   "outputs": [
    {
     "name": "stdout",
     "output_type": "stream",
     "text": [
      "There are 53 distinct regions.\n"
     ]
    },
    {
     "data": {
      "image/png": "[encoded data removed]",
      "text/plain": [
       "<Figure size 432x288 with 1 Axes>"
      ]
     },
     "metadata": {
      "needs_background": "light"
     },
     "output_type": "display_data"
    }
   ],
   "source": [
    "sns.countplot(x = data.Region_Code) \n",
    "Region_Code_count = len(data.Region_Code.unique())\n",
    "print('There are', Region_Code_count, 'distinct regions.')"
   ]
  },
  {
   "cell_type": "markdown",
   "metadata": {},
   "source": [
    "### Previously_Insured"
   ]
  },
  {
   "cell_type": "code",
   "execution_count": 22,
   "metadata": {
    "ExecuteTime": {
     "end_time": "2020-12-03T16:00:30.760536Z",
     "start_time": "2020-12-03T16:00:26.791160Z"
    }
   },
   "outputs": [
    {
     "data": {
      "text/plain": [
       "<AxesSubplot:xlabel='Previously_Insured', ylabel='count'>"
      ]
     },
     "execution_count": 22,
     "metadata": {},
     "output_type": "execute_result"
    },
    {
     "data": {
      "image/png": "[encoded data removed]",
      "text/plain": [
       "<Figure size 432x288 with 1 Axes>"
      ]
     },
     "metadata": {
      "needs_background": "light"
     },
     "output_type": "display_data"
    }
   ],
   "source": [
    "sns.countplot(x = data.Previously_Insured) "
   ]
  },
  {
   "cell_type": "markdown",
   "metadata": {},
   "source": [
    "### Vehicle_Age"
   ]
  },
  {
   "cell_type": "code",
   "execution_count": 23,
   "metadata": {
    "ExecuteTime": {
     "end_time": "2020-12-03T16:00:40.314965Z",
     "start_time": "2020-12-03T16:00:30.763529Z"
    }
   },
   "outputs": [
    {
     "data": {
      "text/plain": [
       "<AxesSubplot:xlabel='Vehicle_Age', ylabel='count'>"
      ]
     },
     "execution_count": 23,
     "metadata": {},
     "output_type": "execute_result"
    },
    {
     "data": {
      "image/png": "[encoded data removed]",
      "text/plain": [
       "<Figure size 432x288 with 1 Axes>"
      ]
     },
     "metadata": {
      "needs_background": "light"
     },
     "output_type": "display_data"
    }
   ],
   "source": [
    "sns.countplot(x = data.Vehicle_Age) "
   ]
  },
  {
   "cell_type": "markdown",
   "metadata": {},
   "source": [
    "### Vehicle_Damage"
   ]
  },
  {
   "cell_type": "code",
   "execution_count": 24,
   "metadata": {},
   "outputs": [
    {
     "data": {
      "text/plain": [
       "<AxesSubplot:xlabel='Vehicle_Damage', ylabel='count'>"
      ]
     },
     "execution_count": 24,
     "metadata": {},
     "output_type": "execute_result"
    },
    {
     "data": {
      "image/png": "[encoded data removed]",
      "text/plain": [
       "<Figure size 432x288 with 1 Axes>"
      ]
     },
     "metadata": {
      "needs_background": "light"
     },
     "output_type": "display_data"
    }
   ],
   "source": [
    "sns.countplot(x = data.Vehicle_Damage) "
   ]
  },
  {
   "cell_type": "markdown",
   "metadata": {},
   "source": [
    "### Policy_Sales_Channel"
   ]
  },
  {
   "cell_type": "code",
   "execution_count": 25,
   "metadata": {
    "ExecuteTime": {
     "end_time": "2020-12-03T16:00:51.290953Z",
     "start_time": "2020-12-03T16:00:51.268012Z"
    }
   },
   "outputs": [
    {
     "data": {
      "text/plain": [
       "array([ 26., 152., 160., 124.,  14.,  13.,  30., 156., 163., 157., 122.,\n",
       "        19.,  22.,  15., 154.,  16.,  52., 155.,  11., 151., 125.,  25.,\n",
       "        61.,   1.,  86.,  31., 150.,  23.,  60.,  21., 121.,   3., 139.,\n",
       "        12.,  29.,  55.,   7.,  47., 127., 153.,  78., 158.,  89.,  32.,\n",
       "         8.,  10., 120.,  65.,   4.,  42.,  83., 136.,  24.,  18.,  56.,\n",
       "        48., 106.,  54.,  93., 116.,  91.,  45.,   9., 145., 147.,  44.,\n",
       "       109.,  37., 140., 107., 128., 131., 114., 118., 159., 119., 105.,\n",
       "       135.,  62., 138., 129.,  88.,  92., 111., 113.,  73.,  36.,  28.,\n",
       "        35.,  59.,  53., 148., 133., 108.,  64.,  39.,  94., 132.,  46.,\n",
       "        81., 103.,  90.,  51.,  27., 146.,  63.,  96.,  40.,  66., 100.,\n",
       "        95., 123.,  98.,  75.,  69., 130., 134.,  49.,  97.,  38.,  17.,\n",
       "       110.,  80.,  71., 117.,  58.,  20.,  76., 104.,  87.,  84., 137.,\n",
       "       126.,  68.,  67., 101., 115.,  57.,  82.,  79., 112.,  99.,  70.,\n",
       "         2.,  34.,  33.,  74., 102., 149.,  43.,   6.,  50., 144., 143.,\n",
       "        41.])"
      ]
     },
     "execution_count": 25,
     "metadata": {},
     "output_type": "execute_result"
    }
   ],
   "source": [
    "data.Policy_Sales_Channel.unique()"
   ]
  },
  {
   "cell_type": "code",
   "execution_count": 26,
   "metadata": {
    "ExecuteTime": {
     "end_time": "2020-12-03T16:00:53.264939Z",
     "start_time": "2020-12-03T16:00:53.244957Z"
    }
   },
   "outputs": [
    {
     "name": "stdout",
     "output_type": "stream",
     "text": [
      "There are 155 distinct policy sales channels in total.\n"
     ]
    }
   ],
   "source": [
    "Policy_Sales_Channel_count = len(data.Policy_Sales_Channel.unique())\n",
    "print('There are', Policy_Sales_Channel_count, 'distinct policy sales channels in total.')"
   ]
  },
  {
   "cell_type": "markdown",
   "metadata": {},
   "source": [
    "### Correlation analysis"
   ]
  },
  {
   "cell_type": "markdown",
   "metadata": {},
   "source": [
    "**Correlation matrix**"
   ]
  },
  {
   "cell_type": "code",
   "execution_count": 27,
   "metadata": {},
   "outputs": [
    {
     "data": {
      "text/html": [
       "<div>\n",
       "<style scoped>\n",
       "    .dataframe tbody tr th:only-of-type {\n",
       "        vertical-align: middle;\n",
       "    }\n",
       "\n",
       "    .dataframe tbody tr th {\n",
       "        vertical-align: top;\n",
       "    }\n",
       "\n",
       "    .dataframe thead th {\n",
       "        text-align: right;\n",
       "    }\n",
       "</style>\n",
       "<table border=\"1\" class=\"dataframe\">\n",
       "  <thead>\n",
       "    <tr style=\"text-align: right;\">\n",
       "      <th></th>\n",
       "      <th>id</th>\n",
       "      <th>Age</th>\n",
       "      <th>Driving_License</th>\n",
       "      <th>Region_Code</th>\n",
       "      <th>Previously_Insured</th>\n",
       "      <th>Annual_Premium</th>\n",
       "      <th>Policy_Sales_Channel</th>\n",
       "      <th>Vintage</th>\n",
       "      <th>Response</th>\n",
       "    </tr>\n",
       "  </thead>\n",
       "  <tbody>\n",
       "    <tr>\n",
       "      <th>id</th>\n",
       "      <td>1.000000</td>\n",
       "      <td>0.001561</td>\n",
       "      <td>-0.000564</td>\n",
       "      <td>-0.000572</td>\n",
       "      <td>0.002457</td>\n",
       "      <td>0.003027</td>\n",
       "      <td>-0.002837</td>\n",
       "      <td>-0.000630</td>\n",
       "      <td>-0.001368</td>\n",
       "    </tr>\n",
       "    <tr>\n",
       "      <th>Age</th>\n",
       "      <td>0.001561</td>\n",
       "      <td>1.000000</td>\n",
       "      <td>-0.079782</td>\n",
       "      <td>0.042574</td>\n",
       "      <td>-0.254682</td>\n",
       "      <td>0.067507</td>\n",
       "      <td>-0.577826</td>\n",
       "      <td>-0.001264</td>\n",
       "      <td>0.111147</td>\n",
       "    </tr>\n",
       "    <tr>\n",
       "      <th>Driving_License</th>\n",
       "      <td>-0.000564</td>\n",
       "      <td>-0.079782</td>\n",
       "      <td>1.000000</td>\n",
       "      <td>-0.001081</td>\n",
       "      <td>0.014969</td>\n",
       "      <td>-0.011906</td>\n",
       "      <td>0.043731</td>\n",
       "      <td>-0.000848</td>\n",
       "      <td>0.010155</td>\n",
       "    </tr>\n",
       "    <tr>\n",
       "      <th>Region_Code</th>\n",
       "      <td>-0.000572</td>\n",
       "      <td>0.042574</td>\n",
       "      <td>-0.001081</td>\n",
       "      <td>1.000000</td>\n",
       "      <td>-0.024659</td>\n",
       "      <td>-0.010588</td>\n",
       "      <td>-0.042420</td>\n",
       "      <td>-0.002750</td>\n",
       "      <td>0.010570</td>\n",
       "    </tr>\n",
       "    <tr>\n",
       "      <th>Previously_Insured</th>\n",
       "      <td>0.002457</td>\n",
       "      <td>-0.254682</td>\n",
       "      <td>0.014969</td>\n",
       "      <td>-0.024659</td>\n",
       "      <td>1.000000</td>\n",
       "      <td>0.004269</td>\n",
       "      <td>0.219381</td>\n",
       "      <td>0.002537</td>\n",
       "      <td>-0.341170</td>\n",
       "    </tr>\n",
       "    <tr>\n",
       "      <th>Annual_Premium</th>\n",
       "      <td>0.003027</td>\n",
       "      <td>0.067507</td>\n",
       "      <td>-0.011906</td>\n",
       "      <td>-0.010588</td>\n",
       "      <td>0.004269</td>\n",
       "      <td>1.000000</td>\n",
       "      <td>-0.113247</td>\n",
       "      <td>-0.000608</td>\n",
       "      <td>0.022575</td>\n",
       "    </tr>\n",
       "    <tr>\n",
       "      <th>Policy_Sales_Channel</th>\n",
       "      <td>-0.002837</td>\n",
       "      <td>-0.577826</td>\n",
       "      <td>0.043731</td>\n",
       "      <td>-0.042420</td>\n",
       "      <td>0.219381</td>\n",
       "      <td>-0.113247</td>\n",
       "      <td>1.000000</td>\n",
       "      <td>0.000002</td>\n",
       "      <td>-0.139042</td>\n",
       "    </tr>\n",
       "    <tr>\n",
       "      <th>Vintage</th>\n",
       "      <td>-0.000630</td>\n",
       "      <td>-0.001264</td>\n",
       "      <td>-0.000848</td>\n",
       "      <td>-0.002750</td>\n",
       "      <td>0.002537</td>\n",
       "      <td>-0.000608</td>\n",
       "      <td>0.000002</td>\n",
       "      <td>1.000000</td>\n",
       "      <td>-0.001050</td>\n",
       "    </tr>\n",
       "    <tr>\n",
       "      <th>Response</th>\n",
       "      <td>-0.001368</td>\n",
       "      <td>0.111147</td>\n",
       "      <td>0.010155</td>\n",
       "      <td>0.010570</td>\n",
       "      <td>-0.341170</td>\n",
       "      <td>0.022575</td>\n",
       "      <td>-0.139042</td>\n",
       "      <td>-0.001050</td>\n",
       "      <td>1.000000</td>\n",
       "    </tr>\n",
       "  </tbody>\n",
       "</table>\n",
       "</div>"
      ],
      "text/plain": [
       "                            id       Age  Driving_License  Region_Code  \\\n",
       "id                    1.000000  0.001561        -0.000564    -0.000572   \n",
       "Age                   0.001561  1.000000        -0.079782     0.042574   \n",
       "Driving_License      -0.000564 -0.079782         1.000000    -0.001081   \n",
       "Region_Code          -0.000572  0.042574        -0.001081     1.000000   \n",
       "Previously_Insured    0.002457 -0.254682         0.014969    -0.024659   \n",
       "Annual_Premium        0.003027  0.067507        -0.011906    -0.010588   \n",
       "Policy_Sales_Channel -0.002837 -0.577826         0.043731    -0.042420   \n",
       "Vintage              -0.000630 -0.001264        -0.000848    -0.002750   \n",
       "Response             -0.001368  0.111147         0.010155     0.010570   \n",
       "\n",
       "                      Previously_Insured  Annual_Premium  \\\n",
       "id                              0.002457        0.003027   \n",
       "Age                            -0.254682        0.067507   \n",
       "Driving_License                 0.014969       -0.011906   \n",
       "Region_Code                    -0.024659       -0.010588   \n",
       "Previously_Insured              1.000000        0.004269   \n",
       "Annual_Premium                  0.004269        1.000000   \n",
       "Policy_Sales_Channel            0.219381       -0.113247   \n",
       "Vintage                         0.002537       -0.000608   \n",
       "Response                       -0.341170        0.022575   \n",
       "\n",
       "                      Policy_Sales_Channel   Vintage  Response  \n",
       "id                               -0.002837 -0.000630 -0.001368  \n",
       "Age                              -0.577826 -0.001264  0.111147  \n",
       "Driving_License                   0.043731 -0.000848  0.010155  \n",
       "Region_Code                      -0.042420 -0.002750  0.010570  \n",
       "Previously_Insured                0.219381  0.002537 -0.341170  \n",
       "Annual_Premium                   -0.113247 -0.000608  0.022575  \n",
       "Policy_Sales_Channel              1.000000  0.000002 -0.139042  \n",
       "Vintage                           0.000002  1.000000 -0.001050  \n",
       "Response                         -0.139042 -0.001050  1.000000  "
      ]
     },
     "execution_count": 27,
     "metadata": {},
     "output_type": "execute_result"
    }
   ],
   "source": [
    "corrMatt = data.corr() \n",
    "corrMatt"
   ]
  },
  {
   "cell_type": "markdown",
   "metadata": {},
   "source": [
    "**Pair Plot**"
   ]
  },
  {
   "cell_type": "code",
   "execution_count": null,
   "metadata": {
    "scrolled": true
   },
   "outputs": [],
   "source": [
    "%%time \n",
    "sns.pairplot(data)\n",
    "plt.show()"
   ]
  },
  {
   "cell_type": "markdown",
   "metadata": {},
   "source": [
    "**Heat Map**"
   ]
  },
  {
   "cell_type": "code",
   "execution_count": 38,
   "metadata": {},
   "outputs": [
    {
     "data": {
      "text/plain": [
       "Text(0.5, 1.0, 'Correlation Matrix')"
      ]
     },
     "execution_count": 38,
     "metadata": {},
     "output_type": "execute_result"
    },
    {
     "data": {
      "image/png": "[encoded data removed]",
      "text/plain": [
       "<Figure size 432x288 with 2 Axes>"
      ]
     },
     "metadata": {
      "needs_background": "light"
     },
     "output_type": "display_data"
    }
   ],
   "source": [
    "sns.heatmap(corrMatt, cmap='Spectral', square=True)\n",
    "plt.title('Correlation Matrix')"
   ]
  },
  {
   "cell_type": "markdown",
   "metadata": {},
   "source": [
    "# Sampling and transformation"
   ]
  },
  {
   "cell_type": "code",
   "execution_count": 19,
   "metadata": {
    "ExecuteTime": {
     "end_time": "2020-12-03T16:01:09.866425Z",
     "start_time": "2020-12-03T16:01:09.861438Z"
    }
   },
   "outputs": [],
   "source": [
    "random_state = 123"
   ]
  },
  {
   "cell_type": "markdown",
   "metadata": {},
   "source": [
    "## Pure random sampling"
   ]
  },
  {
   "cell_type": "code",
   "execution_count": 20,
   "metadata": {
    "ExecuteTime": {
     "end_time": "2020-12-03T16:01:27.355889Z",
     "start_time": "2020-12-03T16:01:27.346950Z"
    }
   },
   "outputs": [],
   "source": [
    "from sklearn.model_selection import train_test_split, StratifiedShuffleSplit"
   ]
  },
  {
   "cell_type": "markdown",
   "metadata": {},
   "source": [
    "### Random sampling "
   ]
  },
  {
   "cell_type": "code",
   "execution_count": 21,
   "metadata": {
    "ExecuteTime": {
     "end_time": "2020-12-03T16:01:29.592625Z",
     "start_time": "2020-12-03T16:01:29.439028Z"
    }
   },
   "outputs": [],
   "source": [
    "train, test = train_test_split(\n",
    "        data, test_size=0.2, random_state=random_state\n",
    ")"
   ]
  },
  {
   "cell_type": "markdown",
   "metadata": {},
   "source": [
    "## Deal with imbalanced sample "
   ]
  },
  {
   "cell_type": "code",
   "execution_count": 22,
   "metadata": {
    "ExecuteTime": {
     "end_time": "2020-12-03T16:01:59.839701Z",
     "start_time": "2020-12-03T16:01:59.738977Z"
    }
   },
   "outputs": [],
   "source": [
    "from sklearn.utils import resample\n",
    "\n",
    "# Separate majority and minority classes in train\n",
    "train_majority = train[train.Response==0]\n",
    "train_minority = train[train.Response==1]"
   ]
  },
  {
   "cell_type": "markdown",
   "metadata": {
    "ExecuteTime": {
     "end_time": "2020-11-20T05:36:31.434928Z",
     "start_time": "2020-11-20T05:36:31.411000Z"
    }
   },
   "source": [
    "### Over-sampling"
   ]
  },
  {
   "cell_type": "code",
   "execution_count": 23,
   "metadata": {
    "ExecuteTime": {
     "end_time": "2020-12-03T16:02:02.096638Z",
     "start_time": "2020-12-03T16:02:01.940447Z"
    }
   },
   "outputs": [
    {
     "data": {
      "text/plain": [
       "1    267502\n",
       "0    267502\n",
       "Name: Response, dtype: int64"
      ]
     },
     "execution_count": 23,
     "metadata": {},
     "output_type": "execute_result"
    }
   ],
   "source": [
    "# Upsample minority class\n",
    "train_minority_upsampled = resample(train_minority, \n",
    "                                 replace=True,     # sample with replacement\n",
    "                                 n_samples=len(train_majority),    # to match majority class\n",
    "                                 random_state=random_state) # reproducible results\n",
    " \n",
    "# Combine majority class with upsampled minority class\n",
    "train_upsampled = pd.concat([train_majority, train_minority_upsampled])\n",
    " \n",
    "# Display new class counts\n",
    "train_upsampled.Response.value_counts()"
   ]
  },
  {
   "cell_type": "markdown",
   "metadata": {},
   "source": [
    "###  Under-sampling"
   ]
  },
  {
   "cell_type": "code",
   "execution_count": 24,
   "metadata": {
    "ExecuteTime": {
     "end_time": "2020-12-03T20:32:52.806875Z",
     "start_time": "2020-12-03T20:32:52.659628Z"
    }
   },
   "outputs": [
    {
     "data": {
      "text/plain": [
       "1    37385\n",
       "0    37385\n",
       "Name: Response, dtype: int64"
      ]
     },
     "execution_count": 24,
     "metadata": {},
     "output_type": "execute_result"
    }
   ],
   "source": [
    "# Downsample majority class\n",
    "train_majority_downsampled = resample(train_majority, \n",
    "                                 replace=False,    # sample without replacement\n",
    "                                 n_samples=len(train_minority),  # to match minority class\n",
    "                                 random_state=random_state) # reproducible results\n",
    " \n",
    "# Combine minority class with downsampled majority class\n",
    "train_downsampled = pd.concat([train_majority_downsampled, train_minority])\n",
    " \n",
    "# Display new class counts\n",
    "train_downsampled.Response.value_counts()"
   ]
  },
  {
   "cell_type": "markdown",
   "metadata": {},
   "source": [
    "## transformation"
   ]
  },
  {
   "cell_type": "code",
   "execution_count": 28,
   "metadata": {
    "ExecuteTime": {
     "end_time": "2020-12-03T20:36:42.510467Z",
     "start_time": "2020-12-03T20:36:42.492519Z"
    }
   },
   "outputs": [],
   "source": [
    "# to split categorical features with dummy variables\n",
    "full_pipeline = ColumnTransformer([\n",
    "    (\"num\", StandardScaler(), num_features),\n",
    "    (\"cat\", OneHotEncoder(), cat_features)])\n",
    "\n",
    "# to get features and label from dataframe\n",
    "def transform(dataset):\n",
    "    X = dataset.drop(columns=['Response', 'id'])\n",
    "    X_pip = full_pipeline.fit_transform(X)\n",
    "    y = dataset['Response'].copy()\n",
    "    y = np.array(y)\n",
    "    return X_pip, y"
   ]
  },
  {
   "cell_type": "code",
   "execution_count": 29,
   "metadata": {
    "ExecuteTime": {
     "end_time": "2020-12-03T20:36:46.593470Z",
     "start_time": "2020-12-03T20:36:43.939186Z"
    }
   },
   "outputs": [],
   "source": [
    "# original data set\n",
    "X_train, y_train = transform(train)\n",
    "\n",
    "# adjusted data set with over sampling\n",
    "X_over, y_over = transform(train_upsampled)\n",
    "\n",
    "# adjusted data set with under sampling\n",
    "X_under, y_under = transform(train_downsampled)\n",
    "\n",
    "# test data set are same\n",
    "X_test, y_test = transform(test)"
   ]
  },
  {
   "cell_type": "code",
   "execution_count": 30,
   "metadata": {
    "ExecuteTime": {
     "end_time": "2020-12-03T20:36:49.981228Z",
     "start_time": "2020-12-03T20:36:49.963273Z"
    }
   },
   "outputs": [
    {
     "data": {
      "text/plain": [
       "((304887, 67), (535004, 67), (74770, 67), (76222, 67))"
      ]
     },
     "execution_count": 30,
     "metadata": {},
     "output_type": "execute_result"
    }
   ],
   "source": [
    "X_train.shape,X_over.shape,X_under.shape,X_test.shape"
   ]
  },
  {
   "cell_type": "markdown",
   "metadata": {},
   "source": [
    "# Models"
   ]
  },
  {
   "cell_type": "code",
   "execution_count": 77,
   "metadata": {
    "ExecuteTime": {
     "end_time": "2020-12-04T01:16:14.304787Z",
     "start_time": "2020-12-04T01:16:14.284883Z"
    }
   },
   "outputs": [],
   "source": [
    "from sklearn import metrics\n",
    "\n",
    "def clf(X_tst, y_tst, model):\n",
    "    \n",
    "    y_pred = model.predict(X_tst) # predicted label for the test data\n",
    "    y_pred_proba = model.predict_proba(X_tst)[:,1] # predicted score for the test data \n",
    "    \n",
    "    # Confusion Matrix\n",
    "    metrics.plot_confusion_matrix(model, X_tst, y_tst, cmap=plt.cm.Blues)\n",
    "    \n",
    "    \n",
    "    # classificatio reprot\n",
    "    target_names = ['0','1']\n",
    "    print(metrics.classification_report(y_tst, y_pred, target_names = ['class 0','calss 1'], digits=4))\n",
    "\n",
    "    "
   ]
  },
  {
   "cell_type": "markdown",
   "metadata": {},
   "source": [
    "## Logistic Regression"
   ]
  },
  {
   "cell_type": "markdown",
   "metadata": {},
   "source": [
    "### Original data set"
   ]
  },
  {
   "cell_type": "code",
   "execution_count": 78,
   "metadata": {
    "ExecuteTime": {
     "end_time": "2020-12-04T01:16:22.851298Z",
     "start_time": "2020-12-04T01:16:17.544488Z"
    },
    "scrolled": true
   },
   "outputs": [
    {
     "data": {
      "text/plain": [
       "LogisticRegression(C=1.0, class_weight=None, dual=False, fit_intercept=True,\n",
       "                   intercept_scaling=1, l1_ratio=None, max_iter=1000,\n",
       "                   multi_class='auto', n_jobs=None, penalty='none',\n",
       "                   random_state=None, solver='lbfgs', tol=0.0001, verbose=0,\n",
       "                   warm_start=False)"
      ]
     },
     "execution_count": 78,
     "metadata": {},
     "output_type": "execute_result"
    }
   ],
   "source": [
    "model_lg = LogisticRegression(max_iter=1000) \n",
    "model_lg.fit(X_train, y_train)"
   ]
  },
  {
   "cell_type": "code",
   "execution_count": 79,
   "metadata": {
    "ExecuteTime": {
     "end_time": "2020-12-04T01:16:26.367437Z",
     "start_time": "2020-12-04T01:16:25.301294Z"
    }
   },
   "outputs": [
    {
     "name": "stdout",
     "output_type": "stream",
     "text": [
      "              precision    recall  f1-score   support\n",
      "\n",
      "     class 0     0.8774    0.9999    0.9347    267502\n",
      "     calss 1     0.3462    0.0005    0.0010     37385\n",
      "\n",
      "    accuracy                         0.8773    304887\n",
      "   macro avg     0.6118    0.5002    0.4678    304887\n",
      "weighted avg     0.8123    0.8773    0.8202    304887\n",
      "\n"
     ]
    },
    {
     "data": {
      "image/png": "[encoded data removed]",
      "text/plain": [
       "<Figure size 432x288 with 2 Axes>"
      ]
     },
     "metadata": {
      "needs_background": "light"
     },
     "output_type": "display_data"
    }
   ],
   "source": [
    "# training result\n",
    "clf(X_train, y_train, model_lg)"
   ]
  },
  {
   "cell_type": "code",
   "execution_count": 80,
   "metadata": {
    "ExecuteTime": {
     "end_time": "2020-12-04T01:16:30.239408Z",
     "start_time": "2020-12-04T01:16:29.832499Z"
    }
   },
   "outputs": [
    {
     "name": "stdout",
     "output_type": "stream",
     "text": [
      "              precision    recall  f1-score   support\n",
      "\n",
      "     class 0     0.8777    0.9999    0.9348     66897\n",
      "     calss 1     0.3333    0.0005    0.0011      9325\n",
      "\n",
      "    accuracy                         0.8776     76222\n",
      "   macro avg     0.6055    0.5002    0.4679     76222\n",
      "weighted avg     0.8111    0.8776    0.8206     76222\n",
      "\n"
     ]
    },
    {
     "data": {
      "image/png": "[encoded data removed]",
      "text/plain": [
       "<Figure size 432x288 with 2 Axes>"
      ]
     },
     "metadata": {
      "needs_background": "light"
     },
     "output_type": "display_data"
    }
   ],
   "source": [
    "# test result\n",
    "clf(X_test, y_test, model_lg)"
   ]
  },
  {
   "cell_type": "markdown",
   "metadata": {},
   "source": [
    "### Oversampling data"
   ]
  },
  {
   "cell_type": "code",
   "execution_count": 81,
   "metadata": {
    "ExecuteTime": {
     "end_time": "2020-12-04T01:16:46.873527Z",
     "start_time": "2020-12-04T01:16:34.735408Z"
    }
   },
   "outputs": [
    {
     "name": "stdout",
     "output_type": "stream",
     "text": [
      "              precision    recall  f1-score   support\n",
      "\n",
      "     class 0     0.9291    0.6228    0.7457    267502\n",
      "     calss 1     0.7163    0.9525    0.8177    267502\n",
      "\n",
      "    accuracy                         0.7876    535004\n",
      "   macro avg     0.8227    0.7876    0.7817    535004\n",
      "weighted avg     0.8227    0.7876    0.7817    535004\n",
      "\n"
     ]
    },
    {
     "data": {
      "image/png": "[encoded data removed]",
      "text/plain": [
       "<Figure size 432x288 with 2 Axes>"
      ]
     },
     "metadata": {
      "needs_background": "light"
     },
     "output_type": "display_data"
    }
   ],
   "source": [
    "# training result\n",
    "model_lg.fit(X_over, y_over)\n",
    "clf(X_over, y_over, model_lg)"
   ]
  },
  {
   "cell_type": "code",
   "execution_count": 82,
   "metadata": {
    "ExecuteTime": {
     "end_time": "2020-12-04T01:16:52.858330Z",
     "start_time": "2020-12-04T01:16:52.415513Z"
    }
   },
   "outputs": [
    {
     "name": "stdout",
     "output_type": "stream",
     "text": [
      "              precision    recall  f1-score   support\n",
      "\n",
      "     class 0     0.9874    0.6315    0.7703     66897\n",
      "     calss 1     0.2627    0.9422    0.4109      9325\n",
      "\n",
      "    accuracy                         0.6695     76222\n",
      "   macro avg     0.6251    0.7868    0.5906     76222\n",
      "weighted avg     0.8987    0.6695    0.7263     76222\n",
      "\n"
     ]
    },
    {
     "data": {
      "image/png": "[encoded data removed]",
      "text/plain": [
       "<Figure size 432x288 with 2 Axes>"
      ]
     },
     "metadata": {
      "needs_background": "light"
     },
     "output_type": "display_data"
    }
   ],
   "source": [
    "# test result\n",
    "clf(X_test, y_test, model_lg)"
   ]
  },
  {
   "cell_type": "markdown",
   "metadata": {},
   "source": [
    "### Undersampling data"
   ]
  },
  {
   "cell_type": "code",
   "execution_count": 83,
   "metadata": {
    "ExecuteTime": {
     "end_time": "2020-12-04T01:16:58.679917Z",
     "start_time": "2020-12-04T01:16:57.186913Z"
    }
   },
   "outputs": [
    {
     "name": "stdout",
     "output_type": "stream",
     "text": [
      "              precision    recall  f1-score   support\n",
      "\n",
      "     class 0     0.9292    0.6221    0.7452     37385\n",
      "     calss 1     0.7160    0.9526    0.8175     37385\n",
      "\n",
      "    accuracy                         0.7873     74770\n",
      "   macro avg     0.8226    0.7873    0.7814     74770\n",
      "weighted avg     0.8226    0.7873    0.7814     74770\n",
      "\n"
     ]
    },
    {
     "data": {
      "image/png": "[encoded data removed]",
      "text/plain": [
       "<Figure size 432x288 with 2 Axes>"
      ]
     },
     "metadata": {
      "needs_background": "light"
     },
     "output_type": "display_data"
    }
   ],
   "source": [
    "# training result\n",
    "model_lg.fit(X_under, y_under)\n",
    "clf(X_under, y_under, model_lg)"
   ]
  },
  {
   "cell_type": "code",
   "execution_count": 102,
   "metadata": {
    "ExecuteTime": {
     "end_time": "2020-12-04T01:29:44.604657Z",
     "start_time": "2020-12-04T01:29:44.199739Z"
    }
   },
   "outputs": [
    {
     "name": "stdout",
     "output_type": "stream",
     "text": [
      "              precision    recall  f1-score   support\n",
      "\n",
      "     class 0     0.9877    0.6301    0.7694     66897\n",
      "     calss 1     0.2623    0.9438    0.4106      9325\n",
      "\n",
      "    accuracy                         0.6685     76222\n",
      "   macro avg     0.6250    0.7869    0.5900     76222\n",
      "weighted avg     0.8990    0.6685    0.7255     76222\n",
      "\n"
     ]
    },
    {
     "data": {
      "image/png": "[encoded data removed]",
      "text/plain": [
       "<Figure size 432x288 with 2 Axes>"
      ]
     },
     "metadata": {
      "needs_background": "light"
     },
     "output_type": "display_data"
    }
   ],
   "source": [
    "# test result\n",
    "clf(X_test, y_test, model_lg)"
   ]
  },
  {
   "cell_type": "markdown",
   "metadata": {},
   "source": [
    "### Weighted Logistic Regression"
   ]
  },
  {
   "cell_type": "code",
   "execution_count": 94,
   "metadata": {
    "ExecuteTime": {
     "end_time": "2020-12-04T01:24:40.973433Z",
     "start_time": "2020-12-04T01:24:34.954534Z"
    }
   },
   "outputs": [
    {
     "data": {
      "text/plain": [
       "LogisticRegression(C=1.0, class_weight='balanced', dual=False,\n",
       "                   fit_intercept=True, intercept_scaling=1, l1_ratio=None,\n",
       "                   max_iter=1000, multi_class='auto', n_jobs=None, penalty='l2',\n",
       "                   random_state=None, solver='lbfgs', tol=0.0001, verbose=0,\n",
       "                   warm_start=False)"
      ]
     },
     "execution_count": 94,
     "metadata": {},
     "output_type": "execute_result"
    }
   ],
   "source": [
    "model_wlg = LogisticRegression(max_iter=1000, class_weight='balanced')\n",
    "model_wlg.fit(X_train, y_train)"
   ]
  },
  {
   "cell_type": "markdown",
   "metadata": {},
   "source": [
    "#### Original data"
   ]
  },
  {
   "cell_type": "code",
   "execution_count": 95,
   "metadata": {
    "ExecuteTime": {
     "end_time": "2020-12-04T01:24:52.918584Z",
     "start_time": "2020-12-04T01:24:51.773650Z"
    }
   },
   "outputs": [
    {
     "name": "stdout",
     "output_type": "stream",
     "text": [
      "              precision    recall  f1-score   support\n",
      "\n",
      "     class 0     0.9893    0.6226    0.7643    267502\n",
      "     calss 1     0.2607    0.9520    0.4093     37385\n",
      "\n",
      "    accuracy                         0.6630    304887\n",
      "   macro avg     0.6250    0.7873    0.5868    304887\n",
      "weighted avg     0.9000    0.6630    0.7207    304887\n",
      "\n"
     ]
    },
    {
     "data": {
      "image/png": "[encoded data removed]",
      "text/plain": [
       "<Figure size 432x288 with 2 Axes>"
      ]
     },
     "metadata": {
      "needs_background": "light"
     },
     "output_type": "display_data"
    }
   ],
   "source": [
    "# training result\n",
    "clf(X_train, y_train, model_wlg)"
   ]
  },
  {
   "cell_type": "code",
   "execution_count": 96,
   "metadata": {
    "ExecuteTime": {
     "end_time": "2020-12-04T01:24:59.166786Z",
     "start_time": "2020-12-04T01:24:58.762869Z"
    }
   },
   "outputs": [
    {
     "name": "stdout",
     "output_type": "stream",
     "text": [
      "              precision    recall  f1-score   support\n",
      "\n",
      "     class 0     0.9892    0.6217    0.7635     66897\n",
      "     calss 1     0.2595    0.9511    0.4077      9325\n",
      "\n",
      "    accuracy                         0.6620     76222\n",
      "   macro avg     0.6243    0.7864    0.5856     76222\n",
      "weighted avg     0.8999    0.6620    0.7200     76222\n",
      "\n"
     ]
    },
    {
     "data": {
      "image/png": "[encoded data removed]",
      "text/plain": [
       "<Figure size 432x288 with 2 Axes>"
      ]
     },
     "metadata": {
      "needs_background": "light"
     },
     "output_type": "display_data"
    }
   ],
   "source": [
    "# test result\n",
    "clf(X_test, y_test, model_wlg)"
   ]
  },
  {
   "cell_type": "markdown",
   "metadata": {},
   "source": [
    "#### Oversampling data"
   ]
  },
  {
   "cell_type": "code",
   "execution_count": null,
   "metadata": {},
   "outputs": [],
   "source": [
    "model_wlg.fit(X_over, y_over)"
   ]
  },
  {
   "cell_type": "code",
   "execution_count": 97,
   "metadata": {
    "ExecuteTime": {
     "end_time": "2020-12-04T01:25:26.989418Z",
     "start_time": "2020-12-04T01:25:24.988778Z"
    }
   },
   "outputs": [
    {
     "name": "stdout",
     "output_type": "stream",
     "text": [
      "              precision    recall  f1-score   support\n",
      "\n",
      "     class 0     0.9379    0.6128    0.7412    267502\n",
      "     calss 1     0.7124    0.9594    0.8177    267502\n",
      "\n",
      "    accuracy                         0.7861    535004\n",
      "   macro avg     0.8252    0.7861    0.7795    535004\n",
      "weighted avg     0.8252    0.7861    0.7795    535004\n",
      "\n"
     ]
    },
    {
     "data": {
      "image/png": "[encoded data removed]",
      "text/plain": [
       "<Figure size 432x288 with 2 Axes>"
      ]
     },
     "metadata": {
      "needs_background": "light"
     },
     "output_type": "display_data"
    }
   ],
   "source": [
    "# training result\n",
    "clf( X_over, y_over, model_wlg)"
   ]
  },
  {
   "cell_type": "code",
   "execution_count": 98,
   "metadata": {
    "ExecuteTime": {
     "end_time": "2020-12-04T01:25:35.392672Z",
     "start_time": "2020-12-04T01:25:35.012682Z"
    }
   },
   "outputs": [
    {
     "name": "stdout",
     "output_type": "stream",
     "text": [
      "              precision    recall  f1-score   support\n",
      "\n",
      "     class 0     0.9892    0.6217    0.7635     66897\n",
      "     calss 1     0.2595    0.9511    0.4077      9325\n",
      "\n",
      "    accuracy                         0.6620     76222\n",
      "   macro avg     0.6243    0.7864    0.5856     76222\n",
      "weighted avg     0.8999    0.6620    0.7200     76222\n",
      "\n"
     ]
    },
    {
     "data": {
      "image/png": "[encoded data removed]",
      "text/plain": [
       "<Figure size 432x288 with 2 Axes>"
      ]
     },
     "metadata": {
      "needs_background": "light"
     },
     "output_type": "display_data"
    }
   ],
   "source": [
    "# test result\n",
    "clf(X_test, y_test, model_wlg)"
   ]
  },
  {
   "cell_type": "markdown",
   "metadata": {},
   "source": [
    "#### Undersampling data"
   ]
  },
  {
   "cell_type": "code",
   "execution_count": 99,
   "metadata": {
    "ExecuteTime": {
     "end_time": "2020-12-04T01:26:08.085571Z",
     "start_time": "2020-12-04T01:26:05.484535Z"
    }
   },
   "outputs": [
    {
     "data": {
      "text/plain": [
       "LogisticRegression(C=1.0, class_weight='balanced', dual=False,\n",
       "                   fit_intercept=True, intercept_scaling=1, l1_ratio=None,\n",
       "                   max_iter=1000, multi_class='auto', n_jobs=None, penalty='l2',\n",
       "                   random_state=None, solver='lbfgs', tol=0.0001, verbose=0,\n",
       "                   warm_start=False)"
      ]
     },
     "execution_count": 99,
     "metadata": {},
     "output_type": "execute_result"
    }
   ],
   "source": [
    "model_wlg.fit(X_under, y_under)"
   ]
  },
  {
   "cell_type": "code",
   "execution_count": 100,
   "metadata": {
    "ExecuteTime": {
     "end_time": "2020-12-04T01:26:11.544526Z",
     "start_time": "2020-12-04T01:26:11.078726Z"
    },
    "scrolled": true
   },
   "outputs": [
    {
     "name": "stdout",
     "output_type": "stream",
     "text": [
      "              precision    recall  f1-score   support\n",
      "\n",
      "     class 0     0.9296    0.6216    0.7450     37385\n",
      "     calss 1     0.7158    0.9529    0.8175     37385\n",
      "\n",
      "    accuracy                         0.7873     74770\n",
      "   macro avg     0.8227    0.7873    0.7813     74770\n",
      "weighted avg     0.8227    0.7873    0.7813     74770\n",
      "\n"
     ]
    },
    {
     "data": {
      "image/png": "[encoded data removed]",
      "text/plain": [
       "<Figure size 432x288 with 2 Axes>"
      ]
     },
     "metadata": {
      "needs_background": "light"
     },
     "output_type": "display_data"
    }
   ],
   "source": [
    "# training result\n",
    "clf(X_under, y_under, model_wlg)"
   ]
  },
  {
   "cell_type": "code",
   "execution_count": 101,
   "metadata": {
    "ExecuteTime": {
     "end_time": "2020-12-04T01:26:18.883930Z",
     "start_time": "2020-12-04T01:26:18.407918Z"
    }
   },
   "outputs": [
    {
     "name": "stdout",
     "output_type": "stream",
     "text": [
      "              precision    recall  f1-score   support\n",
      "\n",
      "     class 0     0.9878    0.6297    0.7691     66897\n",
      "     calss 1     0.2622    0.9440    0.4104      9325\n",
      "\n",
      "    accuracy                         0.6682     76222\n",
      "   macro avg     0.6250    0.7869    0.5898     76222\n",
      "weighted avg     0.8990    0.6682    0.7252     76222\n",
      "\n"
     ]
    },
    {
     "data": {
      "image/png": "[encoded data removed]",
      "text/plain": [
       "<Figure size 432x288 with 2 Axes>"
      ]
     },
     "metadata": {
      "needs_background": "light"
     },
     "output_type": "display_data"
    }
   ],
   "source": [
    "# test result\n",
    "clf(X_test, y_test, model_wlg)"
   ]
  },
  {
   "cell_type": "markdown",
   "metadata": {},
   "source": [
    "## Decision Tree"
   ]
  },
  {
   "cell_type": "code",
   "execution_count": 103,
   "metadata": {
    "ExecuteTime": {
     "end_time": "2020-12-04T01:31:38.413051Z",
     "start_time": "2020-12-04T01:31:38.398049Z"
    }
   },
   "outputs": [],
   "source": [
    "model_dt = DecisionTreeClassifier(random_state=123)"
   ]
  },
  {
   "cell_type": "markdown",
   "metadata": {},
   "source": [
    "### Original data"
   ]
  },
  {
   "cell_type": "code",
   "execution_count": 104,
   "metadata": {
    "ExecuteTime": {
     "end_time": "2020-12-04T01:32:50.999001Z",
     "start_time": "2020-12-04T01:32:07.351757Z"
    }
   },
   "outputs": [
    {
     "data": {
      "text/plain": [
       "DecisionTreeClassifier(ccp_alpha=0.0, class_weight=None, criterion='gini',\n",
       "                       max_depth=None, max_features=None, max_leaf_nodes=None,\n",
       "                       min_impurity_decrease=0.0, min_impurity_split=None,\n",
       "                       min_samples_leaf=1, min_samples_split=2,\n",
       "                       min_weight_fraction_leaf=0.0, presort='deprecated',\n",
       "                       random_state=123, splitter='best')"
      ]
     },
     "execution_count": 104,
     "metadata": {},
     "output_type": "execute_result"
    }
   ],
   "source": [
    "model_dt.fit(X_train, y_train)"
   ]
  },
  {
   "cell_type": "code",
   "execution_count": 105,
   "metadata": {
    "ExecuteTime": {
     "end_time": "2020-12-04T01:32:52.673520Z",
     "start_time": "2020-12-04T01:32:51.001993Z"
    }
   },
   "outputs": [
    {
     "name": "stdout",
     "output_type": "stream",
     "text": [
      "              precision    recall  f1-score   support\n",
      "\n",
      "     class 0     0.9992    1.0000    0.9996    267502\n",
      "     calss 1     0.9999    0.9940    0.9969     37385\n",
      "\n",
      "    accuracy                         0.9992    304887\n",
      "   macro avg     0.9995    0.9970    0.9983    304887\n",
      "weighted avg     0.9992    0.9992    0.9992    304887\n",
      "\n"
     ]
    },
    {
     "data": {
      "image/png": "[encoded data removed]",
      "text/plain": [
       "<Figure size 432x288 with 2 Axes>"
      ]
     },
     "metadata": {
      "needs_background": "light"
     },
     "output_type": "display_data"
    }
   ],
   "source": [
    "# training result\n",
    "clf( X_train, y_train, model_dt)"
   ]
  },
  {
   "cell_type": "code",
   "execution_count": 106,
   "metadata": {
    "ExecuteTime": {
     "end_time": "2020-12-04T01:32:53.330760Z",
     "start_time": "2020-12-04T01:32:52.680501Z"
    }
   },
   "outputs": [
    {
     "name": "stdout",
     "output_type": "stream",
     "text": [
      "              precision    recall  f1-score   support\n",
      "\n",
      "     class 0     0.9014    0.8967    0.8991     66897\n",
      "     calss 1     0.2857    0.2963    0.2909      9325\n",
      "\n",
      "    accuracy                         0.8233     76222\n",
      "   macro avg     0.5935    0.5965    0.5950     76222\n",
      "weighted avg     0.8261    0.8233    0.8247     76222\n",
      "\n"
     ]
    },
    {
     "data": {
      "image/png": "[encoded data removed]",
      "text/plain": [
       "<Figure size 432x288 with 2 Axes>"
      ]
     },
     "metadata": {
      "needs_background": "light"
     },
     "output_type": "display_data"
    }
   ],
   "source": [
    "# test result\n",
    "clf(X_test, y_test, model_dt)"
   ]
  },
  {
   "cell_type": "markdown",
   "metadata": {},
   "source": [
    "### Oversampling data"
   ]
  },
  {
   "cell_type": "code",
   "execution_count": 107,
   "metadata": {
    "ExecuteTime": {
     "end_time": "2020-12-04T01:36:10.576158Z",
     "start_time": "2020-12-04T01:34:15.375647Z"
    }
   },
   "outputs": [
    {
     "data": {
      "text/plain": [
       "DecisionTreeClassifier(ccp_alpha=0.0, class_weight=None, criterion='gini',\n",
       "                       max_depth=None, max_features=None, max_leaf_nodes=None,\n",
       "                       min_impurity_decrease=0.0, min_impurity_split=None,\n",
       "                       min_samples_leaf=1, min_samples_split=2,\n",
       "                       min_weight_fraction_leaf=0.0, presort='deprecated',\n",
       "                       random_state=123, splitter='best')"
      ]
     },
     "execution_count": 107,
     "metadata": {},
     "output_type": "execute_result"
    }
   ],
   "source": [
    "model_dt.fit(X_over, y_over)"
   ]
  },
  {
   "cell_type": "code",
   "execution_count": 108,
   "metadata": {
    "ExecuteTime": {
     "end_time": "2020-12-04T01:36:13.364705Z",
     "start_time": "2020-12-04T01:36:10.580165Z"
    }
   },
   "outputs": [
    {
     "name": "stdout",
     "output_type": "stream",
     "text": [
      "              precision    recall  f1-score   support\n",
      "\n",
      "     class 0     1.0000    0.9991    0.9995    267502\n",
      "     calss 1     0.9991    1.0000    0.9995    267502\n",
      "\n",
      "    accuracy                         0.9995    535004\n",
      "   macro avg     0.9995    0.9995    0.9995    535004\n",
      "weighted avg     0.9995    0.9995    0.9995    535004\n",
      "\n"
     ]
    },
    {
     "data": {
      "image/png": "[encoded data removed]",
      "text/plain": [
       "<Figure size 432x288 with 2 Axes>"
      ]
     },
     "metadata": {
      "needs_background": "light"
     },
     "output_type": "display_data"
    }
   ],
   "source": [
    "# training result\n",
    "clf( X_over, y_over, model_dt)"
   ]
  },
  {
   "cell_type": "code",
   "execution_count": 109,
   "metadata": {
    "ExecuteTime": {
     "end_time": "2020-12-04T01:36:13.967091Z",
     "start_time": "2020-12-04T01:36:13.368692Z"
    }
   },
   "outputs": [
    {
     "name": "stdout",
     "output_type": "stream",
     "text": [
      "              precision    recall  f1-score   support\n",
      "\n",
      "     class 0     0.9021    0.8931    0.8976     66897\n",
      "     calss 1     0.2841    0.3043    0.2939      9325\n",
      "\n",
      "    accuracy                         0.8211     76222\n",
      "   macro avg     0.5931    0.5987    0.5957     76222\n",
      "weighted avg     0.8265    0.8211    0.8237     76222\n",
      "\n"
     ]
    },
    {
     "data": {
      "image/png": "[encoded data removed]",
      "text/plain": [
       "<Figure size 432x288 with 2 Axes>"
      ]
     },
     "metadata": {
      "needs_background": "light"
     },
     "output_type": "display_data"
    }
   ],
   "source": [
    "# test result\n",
    "clf(X_test, y_test, model_dt)"
   ]
  },
  {
   "cell_type": "markdown",
   "metadata": {},
   "source": [
    "### Undersampling data"
   ]
  },
  {
   "cell_type": "code",
   "execution_count": 110,
   "metadata": {
    "ExecuteTime": {
     "end_time": "2020-12-04T01:37:02.896733Z",
     "start_time": "2020-12-04T01:36:57.880141Z"
    }
   },
   "outputs": [
    {
     "data": {
      "text/plain": [
       "DecisionTreeClassifier(ccp_alpha=0.0, class_weight=None, criterion='gini',\n",
       "                       max_depth=None, max_features=None, max_leaf_nodes=None,\n",
       "                       min_impurity_decrease=0.0, min_impurity_split=None,\n",
       "                       min_samples_leaf=1, min_samples_split=2,\n",
       "                       min_weight_fraction_leaf=0.0, presort='deprecated',\n",
       "                       random_state=123, splitter='best')"
      ]
     },
     "execution_count": 110,
     "metadata": {},
     "output_type": "execute_result"
    }
   ],
   "source": [
    "model_dt.fit(X_under, y_under)"
   ]
  },
  {
   "cell_type": "code",
   "execution_count": 111,
   "metadata": {
    "ExecuteTime": {
     "end_time": "2020-12-04T01:37:03.537000Z",
     "start_time": "2020-12-04T01:37:02.901701Z"
    },
    "scrolled": true
   },
   "outputs": [
    {
     "name": "stdout",
     "output_type": "stream",
     "text": [
      "              precision    recall  f1-score   support\n",
      "\n",
      "     class 0     0.9993    1.0000    0.9996     37385\n",
      "     calss 1     1.0000    0.9993    0.9996     37385\n",
      "\n",
      "    accuracy                         0.9996     74770\n",
      "   macro avg     0.9996    0.9996    0.9996     74770\n",
      "weighted avg     0.9996    0.9996    0.9996     74770\n",
      "\n"
     ]
    },
    {
     "data": {
      "image/png": "[encoded data removed]",
      "text/plain": [
       "<Figure size 432x288 with 2 Axes>"
      ]
     },
     "metadata": {
      "needs_background": "light"
     },
     "output_type": "display_data"
    }
   ],
   "source": [
    "# training result\n",
    "clf(X_under, y_under, model_dt)"
   ]
  },
  {
   "cell_type": "code",
   "execution_count": 112,
   "metadata": {
    "ExecuteTime": {
     "end_time": "2020-12-04T01:37:04.200263Z",
     "start_time": "2020-12-04T01:37:03.540990Z"
    },
    "scrolled": true
   },
   "outputs": [
    {
     "name": "stdout",
     "output_type": "stream",
     "text": [
      "              precision    recall  f1-score   support\n",
      "\n",
      "     class 0     0.9466    0.7089    0.8107     66897\n",
      "     calss 1     0.2545    0.7129    0.3751      9325\n",
      "\n",
      "    accuracy                         0.7094     76222\n",
      "   macro avg     0.6005    0.7109    0.5929     76222\n",
      "weighted avg     0.8619    0.7094    0.7574     76222\n",
      "\n"
     ]
    },
    {
     "data": {
      "image/png": "[encoded data removed]",
      "text/plain": [
       "<Figure size 432x288 with 2 Axes>"
      ]
     },
     "metadata": {
      "needs_background": "light"
     },
     "output_type": "display_data"
    }
   ],
   "source": [
    "# test result\n",
    "clf(X_test, y_test, model_dt)"
   ]
  },
  {
   "cell_type": "markdown",
   "metadata": {},
   "source": [
    "## Random Forest"
   ]
  },
  {
   "cell_type": "code",
   "execution_count": 113,
   "metadata": {
    "ExecuteTime": {
     "end_time": "2020-12-04T01:46:48.905588Z",
     "start_time": "2020-12-04T01:46:48.885641Z"
    }
   },
   "outputs": [],
   "source": [
    "model_rf = RandomForestClassifier(random_state=123)"
   ]
  },
  {
   "cell_type": "markdown",
   "metadata": {},
   "source": [
    "### Original data"
   ]
  },
  {
   "cell_type": "code",
   "execution_count": 114,
   "metadata": {
    "ExecuteTime": {
     "end_time": "2020-12-04T02:13:29.579123Z",
     "start_time": "2020-12-04T01:47:12.681947Z"
    }
   },
   "outputs": [
    {
     "data": {
      "text/plain": [
       "RandomForestClassifier(bootstrap=True, ccp_alpha=0.0, class_weight=None,\n",
       "                       criterion='gini', max_depth=None, max_features='auto',\n",
       "                       max_leaf_nodes=None, max_samples=None,\n",
       "                       min_impurity_decrease=0.0, min_impurity_split=None,\n",
       "                       min_samples_leaf=1, min_samples_split=2,\n",
       "                       min_weight_fraction_leaf=0.0, n_estimators=100,\n",
       "                       n_jobs=None, oob_score=False, random_state=123,\n",
       "                       verbose=0, warm_start=False)"
      ]
     },
     "execution_count": 114,
     "metadata": {},
     "output_type": "execute_result"
    }
   ],
   "source": [
    "model_rf.fit(X_train, y_train)"
   ]
  },
  {
   "cell_type": "code",
   "execution_count": 115,
   "metadata": {
    "ExecuteTime": {
     "end_time": "2020-12-04T02:14:12.052443Z",
     "start_time": "2020-12-04T02:13:29.583066Z"
    }
   },
   "outputs": [
    {
     "name": "stdout",
     "output_type": "stream",
     "text": [
      "              precision    recall  f1-score   support\n",
      "\n",
      "     class 0     0.9993    0.9998    0.9996    267502\n",
      "     calss 1     0.9984    0.9953    0.9969     37385\n",
      "\n",
      "    accuracy                         0.9992    304887\n",
      "   macro avg     0.9989    0.9975    0.9982    304887\n",
      "weighted avg     0.9992    0.9992    0.9992    304887\n",
      "\n"
     ]
    },
    {
     "data": {
      "image/png": "[encoded data removed]",
      "text/plain": [
       "<Figure size 432x288 with 2 Axes>"
      ]
     },
     "metadata": {
      "needs_background": "light"
     },
     "output_type": "display_data"
    }
   ],
   "source": [
    "# training result\n",
    "clf(X_train, y_train, model_rf)"
   ]
  },
  {
   "cell_type": "code",
   "execution_count": 118,
   "metadata": {
    "ExecuteTime": {
     "end_time": "2020-12-04T02:28:50.123155Z",
     "start_time": "2020-12-04T02:28:39.831658Z"
    }
   },
   "outputs": [
    {
     "name": "stdout",
     "output_type": "stream",
     "text": [
      "              precision    recall  f1-score   support\n",
      "\n",
      "     class 0     0.8894    0.9588    0.9228     66897\n",
      "     calss 1     0.3286    0.1447    0.2009      9325\n",
      "\n",
      "    accuracy                         0.8592     76222\n",
      "   macro avg     0.6090    0.5517    0.5618     76222\n",
      "weighted avg     0.8208    0.8592    0.8345     76222\n",
      "\n"
     ]
    },
    {
     "data": {
      "image/png": "[encoded data removed]",
      "text/plain": [
       "<Figure size 432x288 with 2 Axes>"
      ]
     },
     "metadata": {
      "needs_background": "light"
     },
     "output_type": "display_data"
    }
   ],
   "source": [
    "# test result\n",
    "clf(X_test, y_test, model_rf)"
   ]
  },
  {
   "cell_type": "markdown",
   "metadata": {},
   "source": [
    "### Oversampling data"
   ]
  },
  {
   "cell_type": "code",
   "execution_count": 119,
   "metadata": {
    "ExecuteTime": {
     "end_time": "2020-12-04T03:11:33.489839Z",
     "start_time": "2020-12-04T02:28:55.230916Z"
    },
    "scrolled": true
   },
   "outputs": [
    {
     "data": {
      "text/plain": [
       "RandomForestClassifier(bootstrap=True, ccp_alpha=0.0, class_weight=None,\n",
       "                       criterion='gini', max_depth=None, max_features='auto',\n",
       "                       max_leaf_nodes=None, max_samples=None,\n",
       "                       min_impurity_decrease=0.0, min_impurity_split=None,\n",
       "                       min_samples_leaf=1, min_samples_split=2,\n",
       "                       min_weight_fraction_leaf=0.0, n_estimators=100,\n",
       "                       n_jobs=None, oob_score=False, random_state=123,\n",
       "                       verbose=0, warm_start=False)"
      ]
     },
     "execution_count": 119,
     "metadata": {},
     "output_type": "execute_result"
    }
   ],
   "source": [
    "model_rf.fit(X_over, y_over)"
   ]
  },
  {
   "cell_type": "code",
   "execution_count": 121,
   "metadata": {
    "ExecuteTime": {
     "end_time": "2020-12-04T03:26:47.155458Z",
     "start_time": "2020-12-04T03:24:43.038412Z"
    }
   },
   "outputs": [
    {
     "name": "stdout",
     "output_type": "stream",
     "text": [
      "              precision    recall  f1-score   support\n",
      "\n",
      "     class 0     1.0000    0.9991    0.9995    267502\n",
      "     calss 1     0.9991    1.0000    0.9995    267502\n",
      "\n",
      "    accuracy                         0.9995    535004\n",
      "   macro avg     0.9995    0.9995    0.9995    535004\n",
      "weighted avg     0.9995    0.9995    0.9995    535004\n",
      "\n"
     ]
    },
    {
     "data": {
      "image/png": "[encoded data removed]",
      "text/plain": [
       "<Figure size 432x288 with 2 Axes>"
      ]
     },
     "metadata": {
      "needs_background": "light"
     },
     "output_type": "display_data"
    }
   ],
   "source": [
    "# training result\n",
    "clf(X_over, y_over, model_rf)"
   ]
  },
  {
   "cell_type": "code",
   "execution_count": 122,
   "metadata": {
    "ExecuteTime": {
     "end_time": "2020-12-04T03:35:08.293448Z",
     "start_time": "2020-12-04T03:34:57.309799Z"
    }
   },
   "outputs": [
    {
     "name": "stdout",
     "output_type": "stream",
     "text": [
      "              precision    recall  f1-score   support\n",
      "\n",
      "     class 0     0.9013    0.9091    0.9052     66897\n",
      "     calss 1     0.3051    0.2861    0.2953      9325\n",
      "\n",
      "    accuracy                         0.8329     76222\n",
      "   macro avg     0.6032    0.5976    0.6003     76222\n",
      "weighted avg     0.8284    0.8329    0.8306     76222\n",
      "\n"
     ]
    },
    {
     "data": {
      "image/png": "[encoded data removed]",
      "text/plain": [
       "<Figure size 432x288 with 2 Axes>"
      ]
     },
     "metadata": {
      "needs_background": "light"
     },
     "output_type": "display_data"
    }
   ],
   "source": [
    "# test result\n",
    "clf(X_test, y_test, model_rf)"
   ]
  },
  {
   "cell_type": "markdown",
   "metadata": {},
   "source": [
    "### Undersampling data"
   ]
  },
  {
   "cell_type": "code",
   "execution_count": 123,
   "metadata": {
    "ExecuteTime": {
     "end_time": "2020-12-04T03:38:03.748840Z",
     "start_time": "2020-12-04T03:35:08.296396Z"
    },
    "scrolled": true
   },
   "outputs": [
    {
     "data": {
      "text/plain": [
       "RandomForestClassifier(bootstrap=True, ccp_alpha=0.0, class_weight=None,\n",
       "                       criterion='gini', max_depth=None, max_features='auto',\n",
       "                       max_leaf_nodes=None, max_samples=None,\n",
       "                       min_impurity_decrease=0.0, min_impurity_split=None,\n",
       "                       min_samples_leaf=1, min_samples_split=2,\n",
       "                       min_weight_fraction_leaf=0.0, n_estimators=100,\n",
       "                       n_jobs=None, oob_score=False, random_state=123,\n",
       "                       verbose=0, warm_start=False)"
      ]
     },
     "execution_count": 123,
     "metadata": {},
     "output_type": "execute_result"
    }
   ],
   "source": [
    "model_rf.fit(X_under, y_under)"
   ]
  },
  {
   "cell_type": "code",
   "execution_count": 124,
   "metadata": {
    "ExecuteTime": {
     "end_time": "2020-12-04T03:38:19.600169Z",
     "start_time": "2020-12-04T03:38:03.755824Z"
    }
   },
   "outputs": [
    {
     "name": "stdout",
     "output_type": "stream",
     "text": [
      "              precision    recall  f1-score   support\n",
      "\n",
      "     class 0     0.9999    0.9994    0.9996     37385\n",
      "     calss 1     0.9994    0.9999    0.9996     37385\n",
      "\n",
      "    accuracy                         0.9996     74770\n",
      "   macro avg     0.9996    0.9996    0.9996     74770\n",
      "weighted avg     0.9996    0.9996    0.9996     74770\n",
      "\n"
     ]
    },
    {
     "data": {
      "image/png": "[encoded data removed]",
      "text/plain": [
       "<Figure size 432x288 with 2 Axes>"
      ]
     },
     "metadata": {
      "needs_background": "light"
     },
     "output_type": "display_data"
    }
   ],
   "source": [
    "# training result\n",
    "clf(X_under, y_under, model_rf)"
   ]
  },
  {
   "cell_type": "code",
   "execution_count": 125,
   "metadata": {
    "ExecuteTime": {
     "end_time": "2020-12-04T03:38:32.388944Z",
     "start_time": "2020-12-04T03:38:19.604170Z"
    }
   },
   "outputs": [
    {
     "name": "stdout",
     "output_type": "stream",
     "text": [
      "              precision    recall  f1-score   support\n",
      "\n",
      "     class 0     0.9737    0.6722    0.7953     66897\n",
      "     calss 1     0.2700    0.8698    0.4121      9325\n",
      "\n",
      "    accuracy                         0.6963     76222\n",
      "   macro avg     0.6218    0.7710    0.6037     76222\n",
      "weighted avg     0.8876    0.6963    0.7484     76222\n",
      "\n"
     ]
    },
    {
     "data": {
      "image/png": "[encoded data removed]",
      "text/plain": [
       "<Figure size 432x288 with 2 Axes>"
      ]
     },
     "metadata": {
      "needs_background": "light"
     },
     "output_type": "display_data"
    }
   ],
   "source": [
    "# test result\n",
    "clf(X_test, y_test, model_rf)"
   ]
  },
  {
   "cell_type": "markdown",
   "metadata": {},
   "source": [
    "# Models after tuning parameters"
   ]
  },
  {
   "cell_type": "markdown",
   "metadata": {},
   "source": [
    "## Logistic Regression with different regularization method and parameter."
   ]
  },
  {
   "cell_type": "markdown",
   "metadata": {},
   "source": [
    "Becasue the default regularization method is L2, we can try different regularization method like L1 and elasticnet"
   ]
  },
  {
   "cell_type": "markdown",
   "metadata": {},
   "source": [
    "**As Weighted logistic regression on oversampling data get highest recall and get a overfitting problem, we tried different regularization method on it** "
   ]
  },
  {
   "cell_type": "code",
   "execution_count": 175,
   "metadata": {
    "ExecuteTime": {
     "end_time": "2020-12-05T03:53:30.377113Z",
     "start_time": "2020-12-05T03:53:30.348194Z"
    }
   },
   "outputs": [],
   "source": [
    "from sklearn import metrics\n",
    "\n",
    "def clf2(X_tst, y_tst, model):\n",
    "    \n",
    "    y_pred = model.predict(X_tst) # predicted label for the test data\n",
    "    y_pred_proba = model.predict_proba(X_tst)[:,1] # predicted score for the test data \n",
    "       \n",
    "    \n",
    "    # classificatio reprot\n",
    "    target_names = ['0','1']\n",
    "    print(metrics.classification_report(y_tst, y_pred, target_names = ['class 0','calss 1'], digits=4))\n"
   ]
  },
  {
   "cell_type": "code",
   "execution_count": 176,
   "metadata": {
    "ExecuteTime": {
     "end_time": "2020-12-05T03:53:31.638909Z",
     "start_time": "2020-12-05T03:53:31.615922Z"
    }
   },
   "outputs": [],
   "source": [
    "def regular(penal, c_score):\n",
    "    model_wlg = LogisticRegression(\n",
    "        penalty = penal, max_iter = 1000, class_weight='balanced', solver='saga', C=c_score)\n",
    "    model_wlg.fit(X_over, y_over)\n",
    "    clf2(X_test, y_test, model_wlg)"
   ]
  },
  {
   "cell_type": "markdown",
   "metadata": {},
   "source": [
    "**Smaller C values specify stronger regularization, so here we try C value from 0.00001 to 100**"
   ]
  },
  {
   "cell_type": "code",
   "execution_count": 184,
   "metadata": {
    "ExecuteTime": {
     "end_time": "2020-12-06T20:20:55.544044Z",
     "start_time": "2020-12-06T20:14:54.971195Z"
    },
    "scrolled": true
   },
   "outputs": [
    {
     "name": "stdout",
     "output_type": "stream",
     "text": [
      "              precision    recall  f1-score   support\n",
      "\n",
      "     class 0     0.9950    0.5902    0.7409     66897\n",
      "     calss 1     0.2498    0.9788    0.3980      9325\n",
      "\n",
      "    accuracy                         0.6378     76222\n",
      "   macro avg     0.6224    0.7845    0.5695     76222\n",
      "weighted avg     0.9038    0.6378    0.6990     76222\n",
      "\n",
      "              precision    recall  f1-score   support\n",
      "\n",
      "     class 0     0.9947    0.5904    0.7410     66897\n",
      "     calss 1     0.2496    0.9775    0.3977      9325\n",
      "\n",
      "    accuracy                         0.6378     76222\n",
      "   macro avg     0.6222    0.7839    0.5693     76222\n",
      "weighted avg     0.9036    0.6378    0.6990     76222\n",
      "\n",
      "              precision    recall  f1-score   support\n",
      "\n",
      "     class 0     0.9896    0.6142    0.7580     66897\n",
      "     calss 1     0.2563    0.9538    0.4040      9325\n",
      "\n",
      "    accuracy                         0.6558     76222\n",
      "   macro avg     0.6230    0.7840    0.5810     76222\n",
      "weighted avg     0.8999    0.6558    0.7147     76222\n",
      "\n",
      "              precision    recall  f1-score   support\n",
      "\n",
      "     class 0     0.9877    0.6296    0.7690     66897\n",
      "     calss 1     0.2621    0.9437    0.4102      9325\n",
      "\n",
      "    accuracy                         0.6680     76222\n",
      "   macro avg     0.6249    0.7866    0.5896     76222\n",
      "weighted avg     0.8989    0.6680    0.7251     76222\n",
      "\n",
      "              precision    recall  f1-score   support\n",
      "\n",
      "     class 0     0.9874    0.6313    0.7702     66897\n",
      "     calss 1     0.2627    0.9424    0.4108      9325\n",
      "\n",
      "    accuracy                         0.6693     76222\n",
      "   macro avg     0.6251    0.7868    0.5905     76222\n",
      "weighted avg     0.8988    0.6693    0.7262     76222\n",
      "\n",
      "              precision    recall  f1-score   support\n",
      "\n",
      "     class 0     0.9874    0.6314    0.7703     66897\n",
      "     calss 1     0.2627    0.9423    0.4109      9325\n",
      "\n",
      "    accuracy                         0.6695     76222\n",
      "   macro avg     0.6251    0.7869    0.5906     76222\n",
      "weighted avg     0.8988    0.6695    0.7263     76222\n",
      "\n",
      "              precision    recall  f1-score   support\n",
      "\n",
      "     class 0     0.9874    0.6314    0.7703     66897\n",
      "     calss 1     0.2627    0.9423    0.4109      9325\n",
      "\n",
      "    accuracy                         0.6695     76222\n",
      "   macro avg     0.6251    0.7869    0.5906     76222\n",
      "weighted avg     0.8988    0.6695    0.7263     76222\n",
      "\n"
     ]
    }
   ],
   "source": [
    "# L1 with different c score\n",
    "for c_score in [0.0001,0.001, 0.01,0.1,1,10,100]:\n",
    "    regular('l1', c_score)"
   ]
  },
  {
   "cell_type": "code",
   "execution_count": 185,
   "metadata": {
    "ExecuteTime": {
     "end_time": "2020-12-06T20:34:57.913056Z",
     "start_time": "2020-12-06T20:20:55.549029Z"
    },
    "scrolled": true
   },
   "outputs": [
    {
     "name": "stdout",
     "output_type": "stream",
     "text": [
      "              precision    recall  f1-score   support\n",
      "\n",
      "     class 0     0.9948    0.5903    0.7409     66897\n",
      "     calss 1     0.2497    0.9779    0.3978      9325\n",
      "\n",
      "    accuracy                         0.6377     76222\n",
      "   macro avg     0.6222    0.7841    0.5694     76222\n",
      "weighted avg     0.9036    0.6377    0.6990     76222\n",
      "\n",
      "              precision    recall  f1-score   support\n",
      "\n",
      "     class 0     0.9911    0.6054    0.7517     66897\n",
      "     calss 1     0.2535    0.9612    0.4011      9325\n",
      "\n",
      "    accuracy                         0.6489     76222\n",
      "   macro avg     0.6223    0.7833    0.5764     76222\n",
      "weighted avg     0.9009    0.6489    0.7088     76222\n",
      "\n",
      "              precision    recall  f1-score   support\n",
      "\n",
      "     class 0     0.9879    0.6271    0.7672     66897\n",
      "     calss 1     0.2610    0.9449    0.4090      9325\n",
      "\n",
      "    accuracy                         0.6659     76222\n",
      "   macro avg     0.6244    0.7860    0.5881     76222\n",
      "weighted avg     0.8990    0.6659    0.7233     76222\n",
      "\n",
      "              precision    recall  f1-score   support\n",
      "\n",
      "     class 0     0.9875    0.6308    0.7698     66897\n",
      "     calss 1     0.2625    0.9429    0.4107      9325\n",
      "\n",
      "    accuracy                         0.6690     76222\n",
      "   macro avg     0.6250    0.7869    0.5903     76222\n",
      "weighted avg     0.8989    0.6690    0.7259     76222\n",
      "\n",
      "              precision    recall  f1-score   support\n",
      "\n",
      "     class 0     0.9874    0.6314    0.7703     66897\n",
      "     calss 1     0.2627    0.9423    0.4109      9325\n",
      "\n",
      "    accuracy                         0.6694     76222\n",
      "   macro avg     0.6251    0.7868    0.5906     76222\n",
      "weighted avg     0.8988    0.6694    0.7263     76222\n",
      "\n",
      "              precision    recall  f1-score   support\n",
      "\n",
      "     class 0     0.9874    0.6314    0.7703     66897\n",
      "     calss 1     0.2627    0.9423    0.4109      9325\n",
      "\n",
      "    accuracy                         0.6695     76222\n",
      "   macro avg     0.6251    0.7869    0.5906     76222\n",
      "weighted avg     0.8988    0.6695    0.7263     76222\n",
      "\n",
      "              precision    recall  f1-score   support\n",
      "\n",
      "     class 0     0.9874    0.6314    0.7703     66897\n",
      "     calss 1     0.2628    0.9423    0.4109      9325\n",
      "\n",
      "    accuracy                         0.6695     76222\n",
      "   macro avg     0.6251    0.7869    0.5906     76222\n",
      "weighted avg     0.8988    0.6695    0.7263     76222\n",
      "\n"
     ]
    }
   ],
   "source": [
    "# L2 with different c score\n",
    "for c_score in [0.0001,0.001, 0.01,0.1,1,10,100]:\n",
    "    regular('l2', c_score)"
   ]
  },
  {
   "cell_type": "code",
   "execution_count": 186,
   "metadata": {
    "ExecuteTime": {
     "end_time": "2020-12-06T21:04:01.420522Z",
     "start_time": "2020-12-06T20:34:57.917046Z"
    },
    "scrolled": true
   },
   "outputs": [
    {
     "name": "stdout",
     "output_type": "stream",
     "text": [
      "              precision    recall  f1-score   support\n",
      "\n",
      "     class 0     0.9950    0.5902    0.7409     66897\n",
      "     calss 1     0.2498    0.9788    0.3980      9325\n",
      "\n",
      "    accuracy                         0.6378     76222\n",
      "   macro avg     0.6224    0.7845    0.5695     76222\n",
      "weighted avg     0.9038    0.6378    0.6990     76222\n",
      "\n",
      "              precision    recall  f1-score   support\n",
      "\n",
      "     class 0     0.9941    0.5917    0.7419     66897\n",
      "     calss 1     0.2497    0.9749    0.3976      9325\n",
      "\n",
      "    accuracy                         0.6386     76222\n",
      "   macro avg     0.6219    0.7833    0.5697     76222\n",
      "weighted avg     0.9031    0.6386    0.6997     76222\n",
      "\n"
     ]
    },
    {
     "name": "stderr",
     "output_type": "stream",
     "text": [
      "C:\\Users\\lqin1\\anaconda3\\lib\\site-packages\\sklearn\\linear_model\\_sag.py:330: ConvergenceWarning: The max_iter was reached which means the coef_ did not converge\n",
      "  \"the coef_ did not converge\", ConvergenceWarning)\n"
     ]
    },
    {
     "name": "stdout",
     "output_type": "stream",
     "text": [
      "              precision    recall  f1-score   support\n",
      "\n",
      "     class 0     0.9890    0.6202    0.7623     66897\n",
      "     calss 1     0.2586    0.9503    0.4066      9325\n",
      "\n",
      "    accuracy                         0.6606     76222\n",
      "   macro avg     0.6238    0.7853    0.5845     76222\n",
      "weighted avg     0.8996    0.6606    0.7188     76222\n",
      "\n",
      "              precision    recall  f1-score   support\n",
      "\n",
      "     class 0     0.9876    0.6302    0.7694     66897\n",
      "     calss 1     0.2623    0.9432    0.4104      9325\n",
      "\n",
      "    accuracy                         0.6685     76222\n",
      "   macro avg     0.6249    0.7867    0.5899     76222\n",
      "weighted avg     0.8989    0.6685    0.7255     76222\n",
      "\n",
      "              precision    recall  f1-score   support\n",
      "\n",
      "     class 0     0.9874    0.6313    0.7702     66897\n",
      "     calss 1     0.2627    0.9424    0.4109      9325\n",
      "\n",
      "    accuracy                         0.6694     76222\n",
      "   macro avg     0.6251    0.7869    0.5905     76222\n",
      "weighted avg     0.8988    0.6694    0.7262     76222\n",
      "\n",
      "              precision    recall  f1-score   support\n",
      "\n",
      "     class 0     0.9874    0.6314    0.7703     66897\n",
      "     calss 1     0.2627    0.9423    0.4109      9325\n",
      "\n",
      "    accuracy                         0.6695     76222\n",
      "   macro avg     0.6251    0.7869    0.5906     76222\n",
      "weighted avg     0.8988    0.6695    0.7263     76222\n",
      "\n",
      "              precision    recall  f1-score   support\n",
      "\n",
      "     class 0     0.9874    0.6314    0.7703     66897\n",
      "     calss 1     0.2628    0.9423    0.4109      9325\n",
      "\n",
      "    accuracy                         0.6695     76222\n",
      "   macro avg     0.6251    0.7869    0.5906     76222\n",
      "weighted avg     0.8988    0.6695    0.7263     76222\n",
      "\n"
     ]
    }
   ],
   "source": [
    "# elasticnet with different c score\n",
    "for c_score in [0.0001, 0.001, 0.01, 0.1,1,10,100]:\n",
    "    model_wlg = LogisticRegression(\n",
    "        penalty = 'elasticnet', max_iter = 1000, class_weight='balanced', solver='saga', C=c_score, l1_ratio=0.5)\n",
    "    model_wlg.fit(X_over, y_over)\n",
    "    clf2(X_test, y_test, model_wlg)"
   ]
  },
  {
   "cell_type": "markdown",
   "metadata": {},
   "source": [
    "## Decision tree with adjusted parameter"
   ]
  },
  {
   "cell_type": "code",
   "execution_count": 182,
   "metadata": {
    "ExecuteTime": {
     "end_time": "2020-12-06T17:09:26.759958Z",
     "start_time": "2020-12-06T17:09:26.742021Z"
    }
   },
   "outputs": [],
   "source": [
    "# Adjust number of leafs and depths of decision tree. \n",
    "def dt(n,depth):\n",
    "    print('max leaf, max depth are', n, depth)\n",
    "    model_dt = DecisionTreeClassifier(random_state=123, max_depth=depth, max_leaf_nodes = n, max_features='auto')\n",
    "    model_dt.fit(X_under, y_under)\n",
    "    clf2(X_test, y_test, model_dt)"
   ]
  },
  {
   "cell_type": "code",
   "execution_count": 183,
   "metadata": {
    "ExecuteTime": {
     "end_time": "2020-12-06T17:09:30.439721Z",
     "start_time": "2020-12-06T17:09:28.524853Z"
    },
    "scrolled": true
   },
   "outputs": [
    {
     "name": "stdout",
     "output_type": "stream",
     "text": [
      "max leaf, max depth are 5 5\n",
      "              precision    recall  f1-score   support\n",
      "\n",
      "     class 0     0.9951    0.5783    0.7315     66897\n",
      "     calss 1     0.2446    0.9794    0.3914      9325\n",
      "\n",
      "    accuracy                         0.6274     76222\n",
      "   macro avg     0.6198    0.7789    0.5615     76222\n",
      "weighted avg     0.9032    0.6274    0.6899     76222\n",
      "\n",
      "max leaf, max depth are 5 10\n",
      "              precision    recall  f1-score   support\n",
      "\n",
      "     class 0     0.9951    0.5783    0.7315     66897\n",
      "     calss 1     0.2446    0.9794    0.3914      9325\n",
      "\n",
      "    accuracy                         0.6274     76222\n",
      "   macro avg     0.6198    0.7789    0.5615     76222\n",
      "weighted avg     0.9032    0.6274    0.6899     76222\n",
      "\n",
      "max leaf, max depth are 5 20\n",
      "              precision    recall  f1-score   support\n",
      "\n",
      "     class 0     0.9951    0.5783    0.7315     66897\n",
      "     calss 1     0.2446    0.9794    0.3914      9325\n",
      "\n",
      "    accuracy                         0.6274     76222\n",
      "   macro avg     0.6198    0.7789    0.5615     76222\n",
      "weighted avg     0.9032    0.6274    0.6899     76222\n",
      "\n",
      "max leaf, max depth are 10 5\n",
      "              precision    recall  f1-score   support\n",
      "\n",
      "     class 0     0.9947    0.5809    0.7334     66897\n",
      "     calss 1     0.2454    0.9777    0.3923      9325\n",
      "\n",
      "    accuracy                         0.6294     76222\n",
      "   macro avg     0.6200    0.7793    0.5629     76222\n",
      "weighted avg     0.9030    0.6294    0.6917     76222\n",
      "\n",
      "max leaf, max depth are 10 10\n",
      "              precision    recall  f1-score   support\n",
      "\n",
      "     class 0     0.9823    0.6427    0.7770     66897\n",
      "     calss 1     0.2635    0.9170    0.4094      9325\n",
      "\n",
      "    accuracy                         0.6763     76222\n",
      "   macro avg     0.6229    0.7799    0.5932     76222\n",
      "weighted avg     0.8944    0.6763    0.7321     76222\n",
      "\n",
      "max leaf, max depth are 10 20\n",
      "              precision    recall  f1-score   support\n",
      "\n",
      "     class 0     0.9823    0.6427    0.7770     66897\n",
      "     calss 1     0.2635    0.9170    0.4094      9325\n",
      "\n",
      "    accuracy                         0.6763     76222\n",
      "   macro avg     0.6229    0.7799    0.5932     76222\n",
      "weighted avg     0.8944    0.6763    0.7321     76222\n",
      "\n",
      "max leaf, max depth are 20 5\n",
      "              precision    recall  f1-score   support\n",
      "\n",
      "     class 0     0.9947    0.5807    0.7333     66897\n",
      "     calss 1     0.2453    0.9777    0.3922      9325\n",
      "\n",
      "    accuracy                         0.6293     76222\n",
      "   macro avg     0.6200    0.7792    0.5628     76222\n",
      "weighted avg     0.9030    0.6293    0.6916     76222\n",
      "\n",
      "max leaf, max depth are 20 10\n",
      "              precision    recall  f1-score   support\n",
      "\n",
      "     class 0     0.9814    0.6541    0.7850     66897\n",
      "     calss 1     0.2686    0.9112    0.4149      9325\n",
      "\n",
      "    accuracy                         0.6856     76222\n",
      "   macro avg     0.6250    0.7827    0.6000     76222\n",
      "weighted avg     0.8942    0.6856    0.7397     76222\n",
      "\n",
      "max leaf, max depth are 20 20\n",
      "              precision    recall  f1-score   support\n",
      "\n",
      "     class 0     0.9818    0.6520    0.7836     66897\n",
      "     calss 1     0.2678    0.9132    0.4142      9325\n",
      "\n",
      "    accuracy                         0.6839     76222\n",
      "   macro avg     0.6248    0.7826    0.5989     76222\n",
      "weighted avg     0.8944    0.6839    0.7384     76222\n",
      "\n"
     ]
    }
   ],
   "source": [
    "for i in [5, 10, 20]:\n",
    "    for j in [5, 10, 20]:\n",
    "        dt(i, j)"
   ]
  },
  {
   "cell_type": "markdown",
   "metadata": {},
   "source": [
    "## Random Forest with adjusted parameter"
   ]
  },
  {
   "cell_type": "code",
   "execution_count": 145,
   "metadata": {
    "ExecuteTime": {
     "end_time": "2020-12-04T05:28:46.593826Z",
     "start_time": "2020-12-04T05:28:46.579879Z"
    }
   },
   "outputs": [],
   "source": [
    "# Adjust number of trees and depths of random forest. \n",
    "def rf(n, depth):\n",
    "    print('n and depth are', n, depth)\n",
    "    model_rf = RandomForestClassifier(random_state=123, max_depth=depth, n_estimators = n, max_features='auto')\n",
    "    model_rf.fit(X_under, y_under)\n",
    "    clf2(X_test, y_test, model_rf)"
   ]
  },
  {
   "cell_type": "code",
   "execution_count": 146,
   "metadata": {
    "ExecuteTime": {
     "end_time": "2020-12-04T05:29:04.845609Z",
     "start_time": "2020-12-04T05:28:47.716039Z"
    }
   },
   "outputs": [
    {
     "name": "stdout",
     "output_type": "stream",
     "text": [
      "n and depth are 5 5\n",
      "              precision    recall  f1-score   support\n",
      "\n",
      "     class 0     0.9948    0.5936    0.7435     66897\n",
      "     calss 1     0.2512    0.9779    0.3997      9325\n",
      "\n",
      "    accuracy                         0.6406     76222\n",
      "   macro avg     0.6230    0.7858    0.5716     76222\n",
      "weighted avg     0.9039    0.6406    0.7015     76222\n",
      "\n",
      "n and depth are 5 10\n",
      "              precision    recall  f1-score   support\n",
      "\n",
      "     class 0     0.9915    0.6198    0.7628     66897\n",
      "     calss 1     0.2607    0.9617    0.4102      9325\n",
      "\n",
      "    accuracy                         0.6617     76222\n",
      "   macro avg     0.6261    0.7908    0.5865     76222\n",
      "weighted avg     0.9021    0.6617    0.7197     76222\n",
      "\n",
      "n and depth are 5 15\n",
      "              precision    recall  f1-score   support\n",
      "\n",
      "     class 0     0.9882    0.6303    0.7697     66897\n",
      "     calss 1     0.2629    0.9460    0.4115      9325\n",
      "\n",
      "    accuracy                         0.6689     76222\n",
      "   macro avg     0.6255    0.7881    0.5906     76222\n",
      "weighted avg     0.8995    0.6689    0.7259     76222\n",
      "\n",
      "n and depth are 10 5\n",
      "              precision    recall  f1-score   support\n",
      "\n",
      "     class 0     0.9938    0.6027    0.7503     66897\n",
      "     calss 1     0.2545    0.9731    0.4035      9325\n",
      "\n",
      "    accuracy                         0.6480     76222\n",
      "   macro avg     0.6242    0.7879    0.5769     76222\n",
      "weighted avg     0.9034    0.6480    0.7079     76222\n",
      "\n",
      "n and depth are 10 10\n",
      "              precision    recall  f1-score   support\n",
      "\n",
      "     class 0     0.9913    0.6215    0.7640     66897\n",
      "     calss 1     0.2613    0.9606    0.4109      9325\n",
      "\n",
      "    accuracy                         0.6630     76222\n",
      "   macro avg     0.6263    0.7911    0.5875     76222\n",
      "weighted avg     0.9020    0.6630    0.7208     76222\n",
      "\n",
      "n and depth are 10 15\n",
      "              precision    recall  f1-score   support\n",
      "\n",
      "     class 0     0.9895    0.6308    0.7705     66897\n",
      "     calss 1     0.2644    0.9522    0.4139      9325\n",
      "\n",
      "    accuracy                         0.6701     76222\n",
      "   macro avg     0.6270    0.7915    0.5922     76222\n",
      "weighted avg     0.9008    0.6701    0.7268     76222\n",
      "\n",
      "n and depth are 15 5\n",
      "              precision    recall  f1-score   support\n",
      "\n",
      "     class 0     0.9945    0.5962    0.7454     66897\n",
      "     calss 1     0.2520    0.9762    0.4006      9325\n",
      "\n",
      "    accuracy                         0.6426     76222\n",
      "   macro avg     0.6232    0.7862    0.5730     76222\n",
      "weighted avg     0.9036    0.6426    0.7033     76222\n",
      "\n",
      "n and depth are 15 10\n",
      "              precision    recall  f1-score   support\n",
      "\n",
      "     class 0     0.9913    0.6228    0.7650     66897\n",
      "     calss 1     0.2620    0.9609    0.4118      9325\n",
      "\n",
      "    accuracy                         0.6641     76222\n",
      "   macro avg     0.6267    0.7918    0.5884     76222\n",
      "weighted avg     0.9021    0.6641    0.7218     76222\n",
      "\n",
      "n and depth are 15 15\n",
      "              precision    recall  f1-score   support\n",
      "\n",
      "     class 0     0.9900    0.6305    0.7704     66897\n",
      "     calss 1     0.2647    0.9541    0.4144      9325\n",
      "\n",
      "    accuracy                         0.6701     76222\n",
      "   macro avg     0.6273    0.7923    0.5924     76222\n",
      "weighted avg     0.9012    0.6701    0.7268     76222\n",
      "\n"
     ]
    }
   ],
   "source": [
    "for i in [5,10,15]:\n",
    "    for j in [5, 10, 15]:\n",
    "        rf(i,j)"
   ]
  },
  {
   "cell_type": "markdown",
   "metadata": {},
   "source": [
    "**Pick out highest recall score 0.9779, max_depth=5, n_estimators = 5 as an example to see how the model works in traning and test data set.**"
   ]
  },
  {
   "cell_type": "code",
   "execution_count": 147,
   "metadata": {
    "ExecuteTime": {
     "end_time": "2020-12-04T05:33:10.685165Z",
     "start_time": "2020-12-04T05:33:09.801530Z"
    },
    "scrolled": true
   },
   "outputs": [
    {
     "name": "stdout",
     "output_type": "stream",
     "text": [
      "              precision    recall  f1-score   support\n",
      "\n",
      "     class 0     0.9948    0.5936    0.7435     66897\n",
      "     calss 1     0.2512    0.9779    0.3997      9325\n",
      "\n",
      "    accuracy                         0.6406     76222\n",
      "   macro avg     0.6230    0.7858    0.5716     76222\n",
      "weighted avg     0.9039    0.6406    0.7015     76222\n",
      "\n"
     ]
    },
    {
     "data": {
      "image/png": "[encoded data removed]",
      "text/plain": [
       "<Figure size 432x288 with 2 Axes>"
      ]
     },
     "metadata": {
      "needs_background": "light"
     },
     "output_type": "display_data"
    }
   ],
   "source": [
    "model_rf = RandomForestClassifier(random_state=123, max_depth=5, n_estimators = 5, max_features='auto')\n",
    "model_rf.fit(X_under, y_under)\n",
    "clf(X_test, y_test, model_rf)"
   ]
  },
  {
   "cell_type": "code",
   "execution_count": 148,
   "metadata": {
    "ExecuteTime": {
     "end_time": "2020-12-04T05:33:49.486248Z",
     "start_time": "2020-12-04T05:33:48.981603Z"
    }
   },
   "outputs": [
    {
     "name": "stdout",
     "output_type": "stream",
     "text": [
      "              precision    recall  f1-score   support\n",
      "\n",
      "     class 0     0.9590    0.5973    0.7361     37385\n",
      "     calss 1     0.7076    0.9745    0.8199     37385\n",
      "\n",
      "    accuracy                         0.7859     74770\n",
      "   macro avg     0.8333    0.7859    0.7780     74770\n",
      "weighted avg     0.8333    0.7859    0.7780     74770\n",
      "\n"
     ]
    },
    {
     "data": {
      "image/png": "[encoded data removed]",
      "text/plain": [
       "<Figure size 432x288 with 2 Axes>"
      ]
     },
     "metadata": {
      "needs_background": "light"
     },
     "output_type": "display_data"
    }
   ],
   "source": [
    "clf(X_under, y_under, model_rf)"
   ]
  },
  {
   "cell_type": "markdown",
   "metadata": {},
   "source": [
    "**Based on the result, we found that, compared to tree numbers, the depth will affect the recall more. And with max depth =5 and tree numbers=5 , we can get the highest recall of 97.79%, which is similar with the highest recall in logistic regression model with adjusted parameter.**"
   ]
  }
 ],
 "metadata": {
  "kernelspec": {
   "display_name": "Python 3",
   "language": "python",
   "name": "python3"
  },
  "language_info": {
   "codemirror_mode": {
    "name": "ipython",
    "version": 3
   },
   "file_extension": ".py",
   "mimetype": "text/x-python",
   "name": "python",
   "nbconvert_exporter": "python",
   "pygments_lexer": "ipython3",
   "version": "3.8.5"
  },
  "toc": {
   "base_numbering": 1,
   "nav_menu": {},
   "number_sections": true,
   "sideBar": true,
   "skip_h1_title": false,
   "title_cell": "Table of Contents",
   "title_sidebar": "Contents",
   "toc_cell": true,
   "toc_position": {
    "height": "calc(100% - 180px)",
    "left": "10px",
    "top": "150px",
    "width": "372px"
   },
   "toc_section_display": true,
   "toc_window_display": true
  }
 },
 "nbformat": 4,
 "nbformat_minor": 4
}
